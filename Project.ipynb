{
 "cells": [
  {
   "cell_type": "markdown",
   "id": "7b0b06f9-37d0-4e3f-9e5f-305dbeb52de9",
   "metadata": {},
   "source": [
    "# Bert Sentiment Analysis and Hybrid Collaborative Filtering on Goodreads Dataset\n",
    "\n",
    "This project seeks to use the Goodreads review dataset to do BERT sentiment analysis and hybrid collaborative filtering. For more details, see the project report pdf."
   ]
  },
  {
   "cell_type": "markdown",
   "id": "f7d0d74a-b6ca-470d-8cfa-e3d742977864",
   "metadata": {},
   "source": [
    "### Imports and Setup\n",
    "\n",
    "Here we import the required packages."
   ]
  },
  {
   "cell_type": "code",
   "execution_count": 1,
   "id": "f251ad52-7b22-4d11-8c0f-98ca999eb2b1",
   "metadata": {
    "ExecuteTime": {
     "end_time": "2024-11-16T22:36:25.541767400Z",
     "start_time": "2024-11-16T22:36:19.310696200Z"
    }
   },
   "outputs": [
    {
     "name": "stderr",
     "output_type": "stream",
     "text": [
      "2024-12-04 21:16:26.355364: I tensorflow/core/platform/cpu_feature_guard.cc:193] This TensorFlow binary is optimized with oneAPI Deep Neural Network Library (oneDNN) to use the following CPU instructions in performance-critical operations:  AVX2 AVX512F AVX512_VNNI FMA\n",
      "To enable them in other operations, rebuild TensorFlow with the appropriate compiler flags.\n",
      "2024-12-04 21:16:26.920471: I tensorflow/core/util/util.cc:169] oneDNN custom operations are on. You may see slightly different numerical results due to floating-point round-off errors from different computation orders. To turn them off, set the environment variable `TF_ENABLE_ONEDNN_OPTS=0`.\n",
      "2024-12-04 21:16:26.927688: W tensorflow/stream_executor/platform/default/dso_loader.cc:64] Could not load dynamic library 'libcudart.so.11.0'; dlerror: libcudart.so.11.0: cannot open shared object file: No such file or directory\n",
      "2024-12-04 21:16:26.927703: I tensorflow/stream_executor/cuda/cudart_stub.cc:29] Ignore above cudart dlerror if you do not have a GPU set up on your machine.\n",
      "2024-12-04 21:16:26.958124: E tensorflow/stream_executor/cuda/cuda_blas.cc:2981] Unable to register cuBLAS factory: Attempting to register factory for plugin cuBLAS when one has already been registered\n",
      "2024-12-04 21:16:35.660011: W tensorflow/stream_executor/platform/default/dso_loader.cc:64] Could not load dynamic library 'libnvinfer.so.7'; dlerror: libnvinfer.so.7: cannot open shared object file: No such file or directory\n",
      "2024-12-04 21:16:35.660109: W tensorflow/stream_executor/platform/default/dso_loader.cc:64] Could not load dynamic library 'libnvinfer_plugin.so.7'; dlerror: libnvinfer_plugin.so.7: cannot open shared object file: No such file or directory\n",
      "2024-12-04 21:16:35.660117: W tensorflow/compiler/tf2tensorrt/utils/py_utils.cc:38] TF-TRT Warning: Cannot dlopen some TensorRT libraries. If you would like to use Nvidia GPU with TensorRT, please make sure the missing libraries mentioned above are installed properly.\n",
      "/fs/ess/PAS2038/PHYSICS_5680_OSU/jupyter/lib/python3.9/site-packages/transformers/utils/generic.py:441: FutureWarning: `torch.utils._pytree._register_pytree_node` is deprecated. Please use `torch.utils._pytree.register_pytree_node` instead.\n",
      "  _torch_pytree._register_pytree_node(\n",
      "/fs/ess/PAS2038/PHYSICS_5680_OSU/jupyter/lib/python3.9/site-packages/transformers/utils/generic.py:309: FutureWarning: `torch.utils._pytree._register_pytree_node` is deprecated. Please use `torch.utils._pytree.register_pytree_node` instead.\n",
      "  _torch_pytree._register_pytree_node(\n",
      "/fs/ess/PAS2038/PHYSICS_5680_OSU/jupyter/lib/python3.9/site-packages/transformers/utils/generic.py:309: FutureWarning: `torch.utils._pytree._register_pytree_node` is deprecated. Please use `torch.utils._pytree.register_pytree_node` instead.\n",
      "  _torch_pytree._register_pytree_node(\n"
     ]
    }
   ],
   "source": [
    "import os\n",
    "import psutil\n",
    "import time\n",
    "import requests\n",
    "import gzip\n",
    "import json\n",
    "import gc\n",
    "\n",
    "import tensorflow as tf\n",
    "import keras\n",
    "import pandas as pd\n",
    "import plotly.express as px\n",
    "import matplotlib.pyplot as plt\n",
    "import numpy as np\n",
    "\n",
    "from transformers import AutoTokenizer, TFDistilBertForSequenceClassification, TFAutoModelForSequenceClassification\n",
    "from sklearn.model_selection import GroupShuffleSplit, train_test_split\n",
    "from sklearn.neighbors import NearestNeighbors\n",
    "from sklearn.decomposition import TruncatedSVD\n",
    "from sklearn.feature_extraction.text import TfidfVectorizer\n",
    "from sklearn.metrics.pairwise import cosine_similarity\n",
    "from keras.callbacks import EarlyStopping, ModelCheckpoint\n",
    "from scipy.sparse import csr_matrix, coo_matrix, hstack\n",
    "\n",
    "from FetchTitle import fetch_title\n",
    "\n",
    "tf.get_logger().setLevel('ERROR')"
   ]
  },
  {
   "cell_type": "markdown",
   "id": "c74a544b-9738-4d8c-bd16-16f748ed755c",
   "metadata": {},
   "source": [
    "Some of the BERT sentiment analysis was tested on a personal GPU. The following cells check for the GPU and then sets its memory growth."
   ]
  },
  {
   "cell_type": "code",
   "execution_count": 2,
   "id": "5e5affe30e9a31bc",
   "metadata": {
    "ExecuteTime": {
     "end_time": "2024-11-16T22:36:25.634267700Z",
     "start_time": "2024-11-16T22:36:25.542768Z"
    },
    "collapsed": false,
    "jupyter": {
     "outputs_hidden": false
    }
   },
   "outputs": [
    {
     "data": {
      "text/plain": [
       "[PhysicalDevice(name='/physical_device:GPU:0', device_type='GPU')]"
      ]
     },
     "execution_count": 2,
     "metadata": {},
     "output_type": "execute_result"
    }
   ],
   "source": [
    "tf.config.list_physical_devices('GPU')"
   ]
  },
  {
   "cell_type": "code",
   "execution_count": 3,
   "id": "a4027c78bcfc662b",
   "metadata": {
    "ExecuteTime": {
     "end_time": "2024-11-16T22:36:26.052767700Z",
     "start_time": "2024-11-16T22:36:26.033768500Z"
    },
    "collapsed": false,
    "jupyter": {
     "outputs_hidden": false
    }
   },
   "outputs": [
    {
     "name": "stdout",
     "output_type": "stream",
     "text": [
      "1 Physical GPUs, 1 Logical GPUs\n"
     ]
    }
   ],
   "source": [
    "gpus = tf.config.list_physical_devices('GPU')\n",
    "if gpus:\n",
    "    try:\n",
    "        for gpu in gpus:\n",
    "            tf.config.experimental.set_memory_growth(gpu, True) # Set GPU memory growth, if exists\n",
    "        logical_gpus = tf.config.list_logical_devices('GPU')\n",
    "        print(len(gpus), 'Physical GPUs,', len(logical_gpus), 'Logical GPUs')\n",
    "    except RuntimeError as e:\n",
    "        print(e)"
   ]
  },
  {
   "cell_type": "markdown",
   "id": "13fda1b4-3f41-4867-b458-8fc94f6d2c93",
   "metadata": {},
   "source": [
    "We read in the goodreads reviews dataset for spoiler detection (raw). The `printmem` function prints the current memory usage. "
   ]
  },
  {
   "cell_type": "code",
   "execution_count": 2,
   "id": "0b4a52b8-2d93-47cd-9619-ee6d2cc79af0",
   "metadata": {
    "ExecuteTime": {
     "end_time": "2024-11-16T22:36:26.096895200Z",
     "start_time": "2024-11-16T22:36:26.053768400Z"
    }
   },
   "outputs": [],
   "source": [
    "def printmem():\n",
    "    process = psutil.Process(os.getpid())\n",
    "    print(round(process.memory_info().rss/(10**9),3), 'Gbytes')  # in bytes "
   ]
  },
  {
   "cell_type": "code",
   "execution_count": 3,
   "id": "6a6657bc-81be-4955-8b4f-4136bad23dbd",
   "metadata": {
    "ExecuteTime": {
     "end_time": "2024-11-16T22:39:35.507898800Z",
     "start_time": "2024-11-16T22:36:26.069395200Z"
    }
   },
   "outputs": [
    {
     "name": "stdout",
     "output_type": "stream",
     "text": [
      "Start of process, memory used:\n",
      "0.792 Gbytes\n",
      "Memory after dataframe read in:\n",
      "7.176 Gbytes\n",
      "Size of dataframe: 1378033\n"
     ]
    }
   ],
   "source": [
    "print(\"Start of process, memory used:\")\n",
    "printmem()\n",
    "\n",
    "# Read in the json.gz dataset\n",
    "df_full = pd.read_json('goodreads_reviews_spoiler_raw.json.gz', \n",
    "                  lines=True)\n",
    "print(\"Memory after dataframe read in:\")\n",
    "printmem()\n",
    "print(\"Size of dataframe:\", len(df_full))"
   ]
  },
  {
   "cell_type": "markdown",
   "id": "f3886c5d-7372-423f-89c0-f7bae2256a25",
   "metadata": {},
   "source": [
    "### Inspecting the Data\n",
    "\n",
    "We first look at all the columns in the dataset and then look at the head of the dataframe to see what is included. "
   ]
  },
  {
   "cell_type": "code",
   "execution_count": 4,
   "id": "b12828c6-ea1f-495f-80ba-d0445335af11",
   "metadata": {
    "ExecuteTime": {
     "end_time": "2024-11-16T22:39:35.564394800Z",
     "start_time": "2024-11-16T22:39:35.510898900Z"
    }
   },
   "outputs": [
    {
     "data": {
      "text/plain": [
       "Index(['user_id', 'book_id', 'review_id', 'rating', 'review_text',\n",
       "       'date_added', 'date_updated', 'read_at', 'started_at', 'n_votes',\n",
       "       'n_comments'],\n",
       "      dtype='object')"
      ]
     },
     "execution_count": 4,
     "metadata": {},
     "output_type": "execute_result"
    }
   ],
   "source": [
    "df_full.columns"
   ]
  },
  {
   "cell_type": "code",
   "execution_count": 5,
   "id": "760e8c1a-0087-4764-89fc-ae2a9ef6dcb3",
   "metadata": {
    "ExecuteTime": {
     "end_time": "2024-11-16T22:39:35.586394Z",
     "start_time": "2024-11-16T22:39:35.521394400Z"
    }
   },
   "outputs": [
    {
     "name": "stdout",
     "output_type": "stream",
     "text": [
      "                            user_id   book_id  \\\n",
      "0  8842281e1d1347389f2ab93d60773d4d  18245960   \n",
      "1  8842281e1d1347389f2ab93d60773d4d     16981   \n",
      "2  8842281e1d1347389f2ab93d60773d4d  28684704   \n",
      "3  8842281e1d1347389f2ab93d60773d4d  27161156   \n",
      "4  8842281e1d1347389f2ab93d60773d4d  25884323   \n",
      "\n",
      "                          review_id  rating  \\\n",
      "0  dfdbb7b0eb5a7e4c26d59a937e2e5feb       5   \n",
      "1  a5d2c3628987712d0e05c4f90798eb67       3   \n",
      "2  2ede853b14dc4583f96cf5d120af636f       3   \n",
      "3  ced5675e55cd9d38a524743f5c40996e       0   \n",
      "4  332732725863131279a8e345b63ac33e       4   \n",
      "\n",
      "                                         review_text  \\\n",
      "0  This is a special book. It started slow for ab...   \n",
      "1  Recommended by Don Katz. Avail for free in Dec...   \n",
      "2  A fun, fast paced science fiction thriller. I ...   \n",
      "3  Recommended reading to understand what is goin...   \n",
      "4  I really enjoyed this book, and there is a lot...   \n",
      "\n",
      "                       date_added                    date_updated  \\\n",
      "0  Sun Jul 30 07:44:10 -0700 2017  Wed Aug 30 00:00:26 -0700 2017   \n",
      "1  Mon Dec 05 10:46:44 -0800 2016  Wed Mar 22 11:37:04 -0700 2017   \n",
      "2  Tue Nov 15 11:29:22 -0800 2016  Mon Mar 20 23:40:27 -0700 2017   \n",
      "3  Wed Nov 09 17:37:04 -0800 2016  Wed Nov 09 17:38:20 -0800 2016   \n",
      "4  Mon Apr 25 09:31:23 -0700 2016  Mon Apr 25 09:31:23 -0700 2016   \n",
      "\n",
      "                          read_at                      started_at  n_votes  \\\n",
      "0  Sat Aug 26 12:05:52 -0700 2017  Tue Aug 15 13:23:18 -0700 2017       28   \n",
      "1                                                                        1   \n",
      "2  Sat Mar 18 23:22:42 -0700 2017  Fri Mar 17 23:45:40 -0700 2017       22   \n",
      "3                                                                        5   \n",
      "4  Sun Jun 26 00:00:00 -0700 2016  Sat May 28 00:00:00 -0700 2016        9   \n",
      "\n",
      "   n_comments  \n",
      "0           1  \n",
      "1           0  \n",
      "2           0  \n",
      "3           1  \n",
      "4           1  \n"
     ]
    }
   ],
   "source": [
    "print(df_full.head(5))"
   ]
  },
  {
   "cell_type": "markdown",
   "id": "21b0972f-c049-4885-900c-8ac99875fc4d",
   "metadata": {},
   "source": [
    "We can see from this head that some of the review ratings are zero. We inspect that to see what that could correspond to."
   ]
  },
  {
   "cell_type": "code",
   "execution_count": 6,
   "id": "2cabf3c851540bbe",
   "metadata": {
    "ExecuteTime": {
     "end_time": "2024-11-16T22:39:35.634394500Z",
     "start_time": "2024-11-16T22:39:35.556399300Z"
    },
    "collapsed": false,
    "jupyter": {
     "outputs_hidden": false
    }
   },
   "outputs": [
    {
     "data": {
      "text/html": [
       "<div>\n",
       "<style scoped>\n",
       "    .dataframe tbody tr th:only-of-type {\n",
       "        vertical-align: middle;\n",
       "    }\n",
       "\n",
       "    .dataframe tbody tr th {\n",
       "        vertical-align: top;\n",
       "    }\n",
       "\n",
       "    .dataframe thead th {\n",
       "        text-align: right;\n",
       "    }\n",
       "</style>\n",
       "<table border=\"1\" class=\"dataframe\">\n",
       "  <thead>\n",
       "    <tr style=\"text-align: right;\">\n",
       "      <th></th>\n",
       "      <th>user_id</th>\n",
       "      <th>book_id</th>\n",
       "      <th>review_id</th>\n",
       "      <th>rating</th>\n",
       "      <th>review_text</th>\n",
       "      <th>date_added</th>\n",
       "      <th>date_updated</th>\n",
       "      <th>read_at</th>\n",
       "      <th>started_at</th>\n",
       "      <th>n_votes</th>\n",
       "      <th>n_comments</th>\n",
       "    </tr>\n",
       "  </thead>\n",
       "  <tbody>\n",
       "    <tr>\n",
       "      <th>3</th>\n",
       "      <td>8842281e1d1347389f2ab93d60773d4d</td>\n",
       "      <td>27161156</td>\n",
       "      <td>ced5675e55cd9d38a524743f5c40996e</td>\n",
       "      <td>0</td>\n",
       "      <td>Recommended reading to understand what is goin...</td>\n",
       "      <td>Wed Nov 09 17:37:04 -0800 2016</td>\n",
       "      <td>Wed Nov 09 17:38:20 -0800 2016</td>\n",
       "      <td></td>\n",
       "      <td></td>\n",
       "      <td>5</td>\n",
       "      <td>1</td>\n",
       "    </tr>\n",
       "    <tr>\n",
       "      <th>7</th>\n",
       "      <td>8842281e1d1347389f2ab93d60773d4d</td>\n",
       "      <td>24189224</td>\n",
       "      <td>dbc01e2438df7a87ee3dc16ee23a53e5</td>\n",
       "      <td>0</td>\n",
       "      <td>Numerous people in publishing have told me thi...</td>\n",
       "      <td>Fri May 29 17:48:57 -0700 2015</td>\n",
       "      <td>Fri May 29 17:49:40 -0700 2015</td>\n",
       "      <td></td>\n",
       "      <td></td>\n",
       "      <td>11</td>\n",
       "      <td>5</td>\n",
       "    </tr>\n",
       "    <tr>\n",
       "      <th>13</th>\n",
       "      <td>8842281e1d1347389f2ab93d60773d4d</td>\n",
       "      <td>16158596</td>\n",
       "      <td>6ff8bbc4856aa403bbd8990407c9c77a</td>\n",
       "      <td>0</td>\n",
       "      <td>Recommended by David Risher</td>\n",
       "      <td>Mon Jul 07 10:56:15 -0700 2014</td>\n",
       "      <td>Mon Jul 07 10:56:39 -0700 2014</td>\n",
       "      <td></td>\n",
       "      <td></td>\n",
       "      <td>0</td>\n",
       "      <td>0</td>\n",
       "    </tr>\n",
       "    <tr>\n",
       "      <th>54</th>\n",
       "      <td>8842281e1d1347389f2ab93d60773d4d</td>\n",
       "      <td>151</td>\n",
       "      <td>daab5f2752243787e471e2ac01bf12fc</td>\n",
       "      <td>0</td>\n",
       "      <td>Well if Melanie says its her BBE, I gotta chec...</td>\n",
       "      <td>Mon May 14 12:55:56 -0700 2007</td>\n",
       "      <td>Sat Jan 07 11:40:38 -0800 2017</td>\n",
       "      <td></td>\n",
       "      <td></td>\n",
       "      <td>1</td>\n",
       "      <td>2</td>\n",
       "    </tr>\n",
       "    <tr>\n",
       "      <th>58</th>\n",
       "      <td>8842281e1d1347389f2ab93d60773d4d</td>\n",
       "      <td>259028</td>\n",
       "      <td>fb4acc8a30bac6bf1414a03303d43c26</td>\n",
       "      <td>0</td>\n",
       "      <td>If steve recommends it, it must be good!</td>\n",
       "      <td>Thu Jan 18 11:09:48 -0800 2007</td>\n",
       "      <td>Mon Mar 09 00:38:30 -0700 2015</td>\n",
       "      <td></td>\n",
       "      <td></td>\n",
       "      <td>2</td>\n",
       "      <td>2</td>\n",
       "    </tr>\n",
       "  </tbody>\n",
       "</table>\n",
       "</div>"
      ],
      "text/plain": [
       "                             user_id   book_id  \\\n",
       "3   8842281e1d1347389f2ab93d60773d4d  27161156   \n",
       "7   8842281e1d1347389f2ab93d60773d4d  24189224   \n",
       "13  8842281e1d1347389f2ab93d60773d4d  16158596   \n",
       "54  8842281e1d1347389f2ab93d60773d4d       151   \n",
       "58  8842281e1d1347389f2ab93d60773d4d    259028   \n",
       "\n",
       "                           review_id  rating  \\\n",
       "3   ced5675e55cd9d38a524743f5c40996e       0   \n",
       "7   dbc01e2438df7a87ee3dc16ee23a53e5       0   \n",
       "13  6ff8bbc4856aa403bbd8990407c9c77a       0   \n",
       "54  daab5f2752243787e471e2ac01bf12fc       0   \n",
       "58  fb4acc8a30bac6bf1414a03303d43c26       0   \n",
       "\n",
       "                                          review_text  \\\n",
       "3   Recommended reading to understand what is goin...   \n",
       "7   Numerous people in publishing have told me thi...   \n",
       "13                        Recommended by David Risher   \n",
       "54  Well if Melanie says its her BBE, I gotta chec...   \n",
       "58           If steve recommends it, it must be good!   \n",
       "\n",
       "                        date_added                    date_updated read_at  \\\n",
       "3   Wed Nov 09 17:37:04 -0800 2016  Wed Nov 09 17:38:20 -0800 2016           \n",
       "7   Fri May 29 17:48:57 -0700 2015  Fri May 29 17:49:40 -0700 2015           \n",
       "13  Mon Jul 07 10:56:15 -0700 2014  Mon Jul 07 10:56:39 -0700 2014           \n",
       "54  Mon May 14 12:55:56 -0700 2007  Sat Jan 07 11:40:38 -0800 2017           \n",
       "58  Thu Jan 18 11:09:48 -0800 2007  Mon Mar 09 00:38:30 -0700 2015           \n",
       "\n",
       "   started_at  n_votes  n_comments  \n",
       "3                    5           1  \n",
       "7                   11           5  \n",
       "13                   0           0  \n",
       "54                   1           2  \n",
       "58                   2           2  "
      ]
     },
     "execution_count": 6,
     "metadata": {},
     "output_type": "execute_result"
    }
   ],
   "source": [
    "df_full[df_full['rating']==0].head(5) # Head of dataframe for rating values of 0"
   ]
  },
  {
   "cell_type": "markdown",
   "id": "7989ae00-1b9b-402d-a229-96b435b32605",
   "metadata": {},
   "source": [
    "It seems that these reviews are people who were recommended to read a book, but with verbage like \"it must be good!\", it seems that these reviews are from users who actually haven't or haven't completed reading the book in question. Therefore, we elect to drop these rows."
   ]
  },
  {
   "cell_type": "code",
   "execution_count": 7,
   "id": "47269c4fb8d72302",
   "metadata": {
    "ExecuteTime": {
     "end_time": "2024-11-16T22:39:35.937894100Z",
     "start_time": "2024-11-16T22:39:35.612894400Z"
    },
    "collapsed": false,
    "jupyter": {
     "outputs_hidden": false
    }
   },
   "outputs": [
    {
     "name": "stdout",
     "output_type": "stream",
     "text": [
      "1330981\n"
     ]
    }
   ],
   "source": [
    "df_full = df_full.drop(df_full[df_full['rating']==0].index) # Drop rows with rating value of 0\n",
    "print(len(df_full))"
   ]
  },
  {
   "cell_type": "markdown",
   "id": "0ea736be-5865-46eb-bf21-96672fe64bde",
   "metadata": {},
   "source": [
    "We also check if there are any null values in the dataframe. It seems there are none, so we can proceed as normal."
   ]
  },
  {
   "cell_type": "code",
   "execution_count": 8,
   "id": "e620ae9b-6465-4a59-b934-705a6f70d55e",
   "metadata": {
    "ExecuteTime": {
     "end_time": "2024-11-16T22:39:36.511394500Z",
     "start_time": "2024-11-16T22:39:35.938395200Z"
    }
   },
   "outputs": [
    {
     "data": {
      "text/plain": [
       "user_id         0\n",
       "book_id         0\n",
       "review_id       0\n",
       "rating          0\n",
       "review_text     0\n",
       "date_added      0\n",
       "date_updated    0\n",
       "read_at         0\n",
       "started_at      0\n",
       "n_votes         0\n",
       "n_comments      0\n",
       "dtype: int64"
      ]
     },
     "execution_count": 8,
     "metadata": {},
     "output_type": "execute_result"
    }
   ],
   "source": [
    "df_full.isna().sum() "
   ]
  },
  {
   "cell_type": "markdown",
   "id": "a118e618-10c0-4964-8f9d-9dad7ddf105d",
   "metadata": {},
   "source": [
    "We now inspect the distribution of ratings. We see that distribution of reviews is skewed towards higher ratings, which could make sense as Goodreads reviews likely love reading, and therefore are more likely to enjoy a book that they are reading, thus leaving higher-rated reviews."
   ]
  },
  {
   "cell_type": "code",
   "execution_count": 9,
   "id": "699830ee-7c85-4743-b116-4d9fe951a1de",
   "metadata": {
    "ExecuteTime": {
     "end_time": "2024-11-16T22:39:36.759893700Z",
     "start_time": "2024-11-16T22:39:36.512895200Z"
    }
   },
   "outputs": [
    {
     "data": {
      "application/vnd.plotly.v1+json": {
       "config": {
        "plotlyServerURL": "https://plot.ly"
       },
       "data": [
        {
         "alignmentgroup": "True",
         "hovertemplate": "rating=%{x}<br>frequency=%{y}<extra></extra>",
         "legendgroup": "",
         "marker": {
          "color": "#636efa",
          "pattern": {
           "shape": ""
          }
         },
         "name": "",
         "offsetgroup": "",
         "orientation": "v",
         "showlegend": false,
         "textposition": "auto",
         "type": "bar",
         "x": [
          1,
          2,
          3,
          4,
          5
         ],
         "xaxis": "x",
         "y": [
          44752,
          112226,
          290430,
          480199,
          403374
         ],
         "yaxis": "y"
        }
       ],
       "layout": {
        "autosize": true,
        "barmode": "relative",
        "legend": {
         "tracegroupgap": 0
        },
        "margin": {
         "t": 60
        },
        "template": {
         "data": {
          "bar": [
           {
            "error_x": {
             "color": "#2a3f5f"
            },
            "error_y": {
             "color": "#2a3f5f"
            },
            "marker": {
             "line": {
              "color": "#E5ECF6",
              "width": 0.5
             },
             "pattern": {
              "fillmode": "overlay",
              "size": 10,
              "solidity": 0.2
             }
            },
            "type": "bar"
           }
          ],
          "barpolar": [
           {
            "marker": {
             "line": {
              "color": "#E5ECF6",
              "width": 0.5
             },
             "pattern": {
              "fillmode": "overlay",
              "size": 10,
              "solidity": 0.2
             }
            },
            "type": "barpolar"
           }
          ],
          "carpet": [
           {
            "aaxis": {
             "endlinecolor": "#2a3f5f",
             "gridcolor": "white",
             "linecolor": "white",
             "minorgridcolor": "white",
             "startlinecolor": "#2a3f5f"
            },
            "baxis": {
             "endlinecolor": "#2a3f5f",
             "gridcolor": "white",
             "linecolor": "white",
             "minorgridcolor": "white",
             "startlinecolor": "#2a3f5f"
            },
            "type": "carpet"
           }
          ],
          "choropleth": [
           {
            "colorbar": {
             "outlinewidth": 0,
             "ticks": ""
            },
            "type": "choropleth"
           }
          ],
          "contour": [
           {
            "colorbar": {
             "outlinewidth": 0,
             "ticks": ""
            },
            "colorscale": [
             [
              0,
              "#0d0887"
             ],
             [
              0.1111111111111111,
              "#46039f"
             ],
             [
              0.2222222222222222,
              "#7201a8"
             ],
             [
              0.3333333333333333,
              "#9c179e"
             ],
             [
              0.4444444444444444,
              "#bd3786"
             ],
             [
              0.5555555555555556,
              "#d8576b"
             ],
             [
              0.6666666666666666,
              "#ed7953"
             ],
             [
              0.7777777777777778,
              "#fb9f3a"
             ],
             [
              0.8888888888888888,
              "#fdca26"
             ],
             [
              1,
              "#f0f921"
             ]
            ],
            "type": "contour"
           }
          ],
          "contourcarpet": [
           {
            "colorbar": {
             "outlinewidth": 0,
             "ticks": ""
            },
            "type": "contourcarpet"
           }
          ],
          "heatmap": [
           {
            "colorbar": {
             "outlinewidth": 0,
             "ticks": ""
            },
            "colorscale": [
             [
              0,
              "#0d0887"
             ],
             [
              0.1111111111111111,
              "#46039f"
             ],
             [
              0.2222222222222222,
              "#7201a8"
             ],
             [
              0.3333333333333333,
              "#9c179e"
             ],
             [
              0.4444444444444444,
              "#bd3786"
             ],
             [
              0.5555555555555556,
              "#d8576b"
             ],
             [
              0.6666666666666666,
              "#ed7953"
             ],
             [
              0.7777777777777778,
              "#fb9f3a"
             ],
             [
              0.8888888888888888,
              "#fdca26"
             ],
             [
              1,
              "#f0f921"
             ]
            ],
            "type": "heatmap"
           }
          ],
          "heatmapgl": [
           {
            "colorbar": {
             "outlinewidth": 0,
             "ticks": ""
            },
            "colorscale": [
             [
              0,
              "#0d0887"
             ],
             [
              0.1111111111111111,
              "#46039f"
             ],
             [
              0.2222222222222222,
              "#7201a8"
             ],
             [
              0.3333333333333333,
              "#9c179e"
             ],
             [
              0.4444444444444444,
              "#bd3786"
             ],
             [
              0.5555555555555556,
              "#d8576b"
             ],
             [
              0.6666666666666666,
              "#ed7953"
             ],
             [
              0.7777777777777778,
              "#fb9f3a"
             ],
             [
              0.8888888888888888,
              "#fdca26"
             ],
             [
              1,
              "#f0f921"
             ]
            ],
            "type": "heatmapgl"
           }
          ],
          "histogram": [
           {
            "marker": {
             "pattern": {
              "fillmode": "overlay",
              "size": 10,
              "solidity": 0.2
             }
            },
            "type": "histogram"
           }
          ],
          "histogram2d": [
           {
            "colorbar": {
             "outlinewidth": 0,
             "ticks": ""
            },
            "colorscale": [
             [
              0,
              "#0d0887"
             ],
             [
              0.1111111111111111,
              "#46039f"
             ],
             [
              0.2222222222222222,
              "#7201a8"
             ],
             [
              0.3333333333333333,
              "#9c179e"
             ],
             [
              0.4444444444444444,
              "#bd3786"
             ],
             [
              0.5555555555555556,
              "#d8576b"
             ],
             [
              0.6666666666666666,
              "#ed7953"
             ],
             [
              0.7777777777777778,
              "#fb9f3a"
             ],
             [
              0.8888888888888888,
              "#fdca26"
             ],
             [
              1,
              "#f0f921"
             ]
            ],
            "type": "histogram2d"
           }
          ],
          "histogram2dcontour": [
           {
            "colorbar": {
             "outlinewidth": 0,
             "ticks": ""
            },
            "colorscale": [
             [
              0,
              "#0d0887"
             ],
             [
              0.1111111111111111,
              "#46039f"
             ],
             [
              0.2222222222222222,
              "#7201a8"
             ],
             [
              0.3333333333333333,
              "#9c179e"
             ],
             [
              0.4444444444444444,
              "#bd3786"
             ],
             [
              0.5555555555555556,
              "#d8576b"
             ],
             [
              0.6666666666666666,
              "#ed7953"
             ],
             [
              0.7777777777777778,
              "#fb9f3a"
             ],
             [
              0.8888888888888888,
              "#fdca26"
             ],
             [
              1,
              "#f0f921"
             ]
            ],
            "type": "histogram2dcontour"
           }
          ],
          "mesh3d": [
           {
            "colorbar": {
             "outlinewidth": 0,
             "ticks": ""
            },
            "type": "mesh3d"
           }
          ],
          "parcoords": [
           {
            "line": {
             "colorbar": {
              "outlinewidth": 0,
              "ticks": ""
             }
            },
            "type": "parcoords"
           }
          ],
          "pie": [
           {
            "automargin": true,
            "type": "pie"
           }
          ],
          "scatter": [
           {
            "fillpattern": {
             "fillmode": "overlay",
             "size": 10,
             "solidity": 0.2
            },
            "type": "scatter"
           }
          ],
          "scatter3d": [
           {
            "line": {
             "colorbar": {
              "outlinewidth": 0,
              "ticks": ""
             }
            },
            "marker": {
             "colorbar": {
              "outlinewidth": 0,
              "ticks": ""
             }
            },
            "type": "scatter3d"
           }
          ],
          "scattercarpet": [
           {
            "marker": {
             "colorbar": {
              "outlinewidth": 0,
              "ticks": ""
             }
            },
            "type": "scattercarpet"
           }
          ],
          "scattergeo": [
           {
            "marker": {
             "colorbar": {
              "outlinewidth": 0,
              "ticks": ""
             }
            },
            "type": "scattergeo"
           }
          ],
          "scattergl": [
           {
            "marker": {
             "colorbar": {
              "outlinewidth": 0,
              "ticks": ""
             }
            },
            "type": "scattergl"
           }
          ],
          "scattermapbox": [
           {
            "marker": {
             "colorbar": {
              "outlinewidth": 0,
              "ticks": ""
             }
            },
            "type": "scattermapbox"
           }
          ],
          "scatterpolar": [
           {
            "marker": {
             "colorbar": {
              "outlinewidth": 0,
              "ticks": ""
             }
            },
            "type": "scatterpolar"
           }
          ],
          "scatterpolargl": [
           {
            "marker": {
             "colorbar": {
              "outlinewidth": 0,
              "ticks": ""
             }
            },
            "type": "scatterpolargl"
           }
          ],
          "scatterternary": [
           {
            "marker": {
             "colorbar": {
              "outlinewidth": 0,
              "ticks": ""
             }
            },
            "type": "scatterternary"
           }
          ],
          "surface": [
           {
            "colorbar": {
             "outlinewidth": 0,
             "ticks": ""
            },
            "colorscale": [
             [
              0,
              "#0d0887"
             ],
             [
              0.1111111111111111,
              "#46039f"
             ],
             [
              0.2222222222222222,
              "#7201a8"
             ],
             [
              0.3333333333333333,
              "#9c179e"
             ],
             [
              0.4444444444444444,
              "#bd3786"
             ],
             [
              0.5555555555555556,
              "#d8576b"
             ],
             [
              0.6666666666666666,
              "#ed7953"
             ],
             [
              0.7777777777777778,
              "#fb9f3a"
             ],
             [
              0.8888888888888888,
              "#fdca26"
             ],
             [
              1,
              "#f0f921"
             ]
            ],
            "type": "surface"
           }
          ],
          "table": [
           {
            "cells": {
             "fill": {
              "color": "#EBF0F8"
             },
             "line": {
              "color": "white"
             }
            },
            "header": {
             "fill": {
              "color": "#C8D4E3"
             },
             "line": {
              "color": "white"
             }
            },
            "type": "table"
           }
          ]
         },
         "layout": {
          "annotationdefaults": {
           "arrowcolor": "#2a3f5f",
           "arrowhead": 0,
           "arrowwidth": 1
          },
          "autotypenumbers": "strict",
          "coloraxis": {
           "colorbar": {
            "outlinewidth": 0,
            "ticks": ""
           }
          },
          "colorscale": {
           "diverging": [
            [
             0,
             "#8e0152"
            ],
            [
             0.1,
             "#c51b7d"
            ],
            [
             0.2,
             "#de77ae"
            ],
            [
             0.3,
             "#f1b6da"
            ],
            [
             0.4,
             "#fde0ef"
            ],
            [
             0.5,
             "#f7f7f7"
            ],
            [
             0.6,
             "#e6f5d0"
            ],
            [
             0.7,
             "#b8e186"
            ],
            [
             0.8,
             "#7fbc41"
            ],
            [
             0.9,
             "#4d9221"
            ],
            [
             1,
             "#276419"
            ]
           ],
           "sequential": [
            [
             0,
             "#0d0887"
            ],
            [
             0.1111111111111111,
             "#46039f"
            ],
            [
             0.2222222222222222,
             "#7201a8"
            ],
            [
             0.3333333333333333,
             "#9c179e"
            ],
            [
             0.4444444444444444,
             "#bd3786"
            ],
            [
             0.5555555555555556,
             "#d8576b"
            ],
            [
             0.6666666666666666,
             "#ed7953"
            ],
            [
             0.7777777777777778,
             "#fb9f3a"
            ],
            [
             0.8888888888888888,
             "#fdca26"
            ],
            [
             1,
             "#f0f921"
            ]
           ],
           "sequentialminus": [
            [
             0,
             "#0d0887"
            ],
            [
             0.1111111111111111,
             "#46039f"
            ],
            [
             0.2222222222222222,
             "#7201a8"
            ],
            [
             0.3333333333333333,
             "#9c179e"
            ],
            [
             0.4444444444444444,
             "#bd3786"
            ],
            [
             0.5555555555555556,
             "#d8576b"
            ],
            [
             0.6666666666666666,
             "#ed7953"
            ],
            [
             0.7777777777777778,
             "#fb9f3a"
            ],
            [
             0.8888888888888888,
             "#fdca26"
            ],
            [
             1,
             "#f0f921"
            ]
           ]
          },
          "colorway": [
           "#636efa",
           "#EF553B",
           "#00cc96",
           "#ab63fa",
           "#FFA15A",
           "#19d3f3",
           "#FF6692",
           "#B6E880",
           "#FF97FF",
           "#FECB52"
          ],
          "font": {
           "color": "#2a3f5f"
          },
          "geo": {
           "bgcolor": "white",
           "lakecolor": "white",
           "landcolor": "#E5ECF6",
           "showlakes": true,
           "showland": true,
           "subunitcolor": "white"
          },
          "hoverlabel": {
           "align": "left"
          },
          "hovermode": "closest",
          "mapbox": {
           "style": "light"
          },
          "paper_bgcolor": "white",
          "plot_bgcolor": "#E5ECF6",
          "polar": {
           "angularaxis": {
            "gridcolor": "white",
            "linecolor": "white",
            "ticks": ""
           },
           "bgcolor": "#E5ECF6",
           "radialaxis": {
            "gridcolor": "white",
            "linecolor": "white",
            "ticks": ""
           }
          },
          "scene": {
           "xaxis": {
            "backgroundcolor": "#E5ECF6",
            "gridcolor": "white",
            "gridwidth": 2,
            "linecolor": "white",
            "showbackground": true,
            "ticks": "",
            "zerolinecolor": "white"
           },
           "yaxis": {
            "backgroundcolor": "#E5ECF6",
            "gridcolor": "white",
            "gridwidth": 2,
            "linecolor": "white",
            "showbackground": true,
            "ticks": "",
            "zerolinecolor": "white"
           },
           "zaxis": {
            "backgroundcolor": "#E5ECF6",
            "gridcolor": "white",
            "gridwidth": 2,
            "linecolor": "white",
            "showbackground": true,
            "ticks": "",
            "zerolinecolor": "white"
           }
          },
          "shapedefaults": {
           "line": {
            "color": "#2a3f5f"
           }
          },
          "ternary": {
           "aaxis": {
            "gridcolor": "white",
            "linecolor": "white",
            "ticks": ""
           },
           "baxis": {
            "gridcolor": "white",
            "linecolor": "white",
            "ticks": ""
           },
           "bgcolor": "#E5ECF6",
           "caxis": {
            "gridcolor": "white",
            "linecolor": "white",
            "ticks": ""
           }
          },
          "title": {
           "x": 0.05
          },
          "xaxis": {
           "automargin": true,
           "gridcolor": "white",
           "linecolor": "white",
           "ticks": "",
           "title": {
            "standoff": 15
           },
           "zerolinecolor": "white",
           "zerolinewidth": 2
          },
          "yaxis": {
           "automargin": true,
           "gridcolor": "white",
           "linecolor": "white",
           "ticks": "",
           "title": {
            "standoff": 15
           },
           "zerolinecolor": "white",
           "zerolinewidth": 2
          }
         }
        },
        "xaxis": {
         "anchor": "y",
         "autorange": true,
         "domain": [
          0,
          1
         ],
         "range": [
          0.5,
          5.5
         ],
         "title": {
          "text": "rating"
         },
         "type": "linear"
        },
        "yaxis": {
         "anchor": "x",
         "autorange": true,
         "domain": [
          0,
          1
         ],
         "range": [
          0,
          505472.63157894736
         ],
         "title": {
          "text": "frequency"
         },
         "type": "linear"
        }
       }
      },
      "image/png": "[encoded data removed]"
     },
     "metadata": {},
     "output_type": "display_data"
    }
   ],
   "source": [
    "# Group the dataframe by rating and count the frequency of each rating \n",
    "grouped_df = df_full.groupby('rating').size().reset_index(name='frequency')\n",
    "\n",
    "# Plot the bar graph of the grouped dataframe\n",
    "fig = px.bar(grouped_df, x='rating', y='frequency')\n",
    "fig.show('plotly_mimetype')"
   ]
  },
  {
   "cell_type": "markdown",
   "id": "694947d3-9c4b-41ba-a8a1-d99656426653",
   "metadata": {},
   "source": [
    "Next, we process the review data itself for BERT. We make all the characters lowercase, strip any excess whitespace, and remove any new-line or tab characters, to allow for the better sentiment analysis."
   ]
  },
  {
   "cell_type": "code",
   "execution_count": 10,
   "id": "a80197ac-ae85-41f4-a086-5d053035815d",
   "metadata": {
    "ExecuteTime": {
     "end_time": "2024-11-16T22:39:39.487395100Z",
     "start_time": "2024-11-16T22:39:36.760394700Z"
    }
   },
   "outputs": [
    {
     "data": {
      "text/html": [
       "<div>\n",
       "<style scoped>\n",
       "    .dataframe tbody tr th:only-of-type {\n",
       "        vertical-align: middle;\n",
       "    }\n",
       "\n",
       "    .dataframe tbody tr th {\n",
       "        vertical-align: top;\n",
       "    }\n",
       "\n",
       "    .dataframe thead th {\n",
       "        text-align: right;\n",
       "    }\n",
       "</style>\n",
       "<table border=\"1\" class=\"dataframe\">\n",
       "  <thead>\n",
       "    <tr style=\"text-align: right;\">\n",
       "      <th></th>\n",
       "      <th>user_id</th>\n",
       "      <th>book_id</th>\n",
       "      <th>review_id</th>\n",
       "      <th>rating</th>\n",
       "      <th>review_text</th>\n",
       "      <th>date_added</th>\n",
       "      <th>date_updated</th>\n",
       "      <th>read_at</th>\n",
       "      <th>started_at</th>\n",
       "      <th>n_votes</th>\n",
       "      <th>n_comments</th>\n",
       "    </tr>\n",
       "  </thead>\n",
       "  <tbody>\n",
       "    <tr>\n",
       "      <th>0</th>\n",
       "      <td>8842281e1d1347389f2ab93d60773d4d</td>\n",
       "      <td>18245960</td>\n",
       "      <td>dfdbb7b0eb5a7e4c26d59a937e2e5feb</td>\n",
       "      <td>5</td>\n",
       "      <td>this is a special book. it started slow for ab...</td>\n",
       "      <td>Sun Jul 30 07:44:10 -0700 2017</td>\n",
       "      <td>Wed Aug 30 00:00:26 -0700 2017</td>\n",
       "      <td>Sat Aug 26 12:05:52 -0700 2017</td>\n",
       "      <td>Tue Aug 15 13:23:18 -0700 2017</td>\n",
       "      <td>28</td>\n",
       "      <td>1</td>\n",
       "    </tr>\n",
       "  </tbody>\n",
       "</table>\n",
       "</div>"
      ],
      "text/plain": [
       "                            user_id   book_id  \\\n",
       "0  8842281e1d1347389f2ab93d60773d4d  18245960   \n",
       "\n",
       "                          review_id  rating  \\\n",
       "0  dfdbb7b0eb5a7e4c26d59a937e2e5feb       5   \n",
       "\n",
       "                                         review_text  \\\n",
       "0  this is a special book. it started slow for ab...   \n",
       "\n",
       "                       date_added                    date_updated  \\\n",
       "0  Sun Jul 30 07:44:10 -0700 2017  Wed Aug 30 00:00:26 -0700 2017   \n",
       "\n",
       "                          read_at                      started_at  n_votes  \\\n",
       "0  Sat Aug 26 12:05:52 -0700 2017  Tue Aug 15 13:23:18 -0700 2017       28   \n",
       "\n",
       "   n_comments  \n",
       "0           1  "
      ]
     },
     "execution_count": 10,
     "metadata": {},
     "output_type": "execute_result"
    }
   ],
   "source": [
    "df_full['review_text'] = df_full['review_text'].str.lower().str.strip().str.replace(r'[\\n\\t]', ' ')\n",
    "df_full.head(1)"
   ]
  },
  {
   "cell_type": "markdown",
   "id": "2b1182bd-a31a-4c29-897a-3e0522b2091d",
   "metadata": {},
   "source": [
    "We check for pure duplicate rows, but we fine none, which is good!"
   ]
  },
  {
   "cell_type": "code",
   "execution_count": 11,
   "id": "9b74bc46-d641-432d-8c74-1f738784b2b1",
   "metadata": {
    "ExecuteTime": {
     "end_time": "2024-11-16T22:39:44.402394500Z",
     "start_time": "2024-11-16T22:39:39.487896400Z"
    }
   },
   "outputs": [
    {
     "name": "stdout",
     "output_type": "stream",
     "text": [
      "Empty DataFrame\n",
      "Columns: [user_id, book_id, review_id, rating, review_text, date_added, date_updated, read_at, started_at, n_votes, n_comments]\n",
      "Index: []\n"
     ]
    }
   ],
   "source": [
    "duplicates = df_full[df_full.duplicated()]\n",
    "print(duplicates)"
   ]
  },
  {
   "cell_type": "markdown",
   "id": "321c88fe-7a6b-4486-8878-3078dbaea05d",
   "metadata": {},
   "source": [
    "However, pure duplicate rows aren't the only duplicates we're concerned about. We drop any rows that have the *exact* same review text. It would not make sense for the same user or other users to have multiple reviews with duplicate review texts, so we drop those for safety."
   ]
  },
  {
   "cell_type": "code",
   "execution_count": 12,
   "id": "0c12662b-e61d-4f28-a338-2af5762d02f1",
   "metadata": {
    "ExecuteTime": {
     "end_time": "2024-11-16T22:39:45.293394Z",
     "start_time": "2024-11-16T22:39:44.403895100Z"
    }
   },
   "outputs": [
    {
     "name": "stdout",
     "output_type": "stream",
     "text": [
      "1330981\n",
      "1315663\n"
     ]
    }
   ],
   "source": [
    "print(len(df_full))\n",
    "df_full = df_full.drop_duplicates(subset='review_text')\n",
    "print(len(df_full))"
   ]
  },
  {
   "cell_type": "markdown",
   "id": "e6eb7534-ca63-4d22-a959-ddf868191a53",
   "metadata": {},
   "source": [
    "Now we make the same bar graph we did earlier, but we do so for a 10% subset of the original dataframe. As seen in the previous cell, the length of the dataframe is over 1.3 million, so a 10% subset would be around 130,000 rows. We do this because training BERT on 1.3 million values would be extremely computationally expensive, so the subset helps to save resources. We use the pandas sample method which helps ensure that the data sampled is stratified (relative frequency is close to that of the original dataframe)."
   ]
  },
  {
   "cell_type": "code",
   "execution_count": 13,
   "id": "4b34c1a7-d693-4313-bce3-66c47cc730c0",
   "metadata": {
    "ExecuteTime": {
     "end_time": "2024-11-16T22:39:45.811394500Z",
     "start_time": "2024-11-16T22:39:45.291394200Z"
    }
   },
   "outputs": [
    {
     "name": "stdout",
     "output_type": "stream",
     "text": [
      "131567\n"
     ]
    },
    {
     "data": {
      "application/vnd.plotly.v1+json": {
       "config": {
        "plotlyServerURL": "https://plot.ly"
       },
       "data": [
        {
         "alignmentgroup": "True",
         "hovertemplate": "rating=%{x}<br>frequency=%{y}<extra></extra>",
         "legendgroup": "",
         "marker": {
          "color": "#636efa",
          "pattern": {
           "shape": ""
          }
         },
         "name": "",
         "offsetgroup": "",
         "orientation": "v",
         "showlegend": false,
         "textposition": "auto",
         "type": "bar",
         "x": [
          1,
          2,
          3,
          4,
          5
         ],
         "xaxis": "x",
         "y": [
          4450,
          11158,
          28762,
          47394,
          39803
         ],
         "yaxis": "y"
        }
       ],
       "layout": {
        "autosize": true,
        "barmode": "relative",
        "legend": {
         "tracegroupgap": 0
        },
        "margin": {
         "t": 60
        },
        "template": {
         "data": {
          "bar": [
           {
            "error_x": {
             "color": "#2a3f5f"
            },
            "error_y": {
             "color": "#2a3f5f"
            },
            "marker": {
             "line": {
              "color": "#E5ECF6",
              "width": 0.5
             },
             "pattern": {
              "fillmode": "overlay",
              "size": 10,
              "solidity": 0.2
             }
            },
            "type": "bar"
           }
          ],
          "barpolar": [
           {
            "marker": {
             "line": {
              "color": "#E5ECF6",
              "width": 0.5
             },
             "pattern": {
              "fillmode": "overlay",
              "size": 10,
              "solidity": 0.2
             }
            },
            "type": "barpolar"
           }
          ],
          "carpet": [
           {
            "aaxis": {
             "endlinecolor": "#2a3f5f",
             "gridcolor": "white",
             "linecolor": "white",
             "minorgridcolor": "white",
             "startlinecolor": "#2a3f5f"
            },
            "baxis": {
             "endlinecolor": "#2a3f5f",
             "gridcolor": "white",
             "linecolor": "white",
             "minorgridcolor": "white",
             "startlinecolor": "#2a3f5f"
            },
            "type": "carpet"
           }
          ],
          "choropleth": [
           {
            "colorbar": {
             "outlinewidth": 0,
             "ticks": ""
            },
            "type": "choropleth"
           }
          ],
          "contour": [
           {
            "colorbar": {
             "outlinewidth": 0,
             "ticks": ""
            },
            "colorscale": [
             [
              0,
              "#0d0887"
             ],
             [
              0.1111111111111111,
              "#46039f"
             ],
             [
              0.2222222222222222,
              "#7201a8"
             ],
             [
              0.3333333333333333,
              "#9c179e"
             ],
             [
              0.4444444444444444,
              "#bd3786"
             ],
             [
              0.5555555555555556,
              "#d8576b"
             ],
             [
              0.6666666666666666,
              "#ed7953"
             ],
             [
              0.7777777777777778,
              "#fb9f3a"
             ],
             [
              0.8888888888888888,
              "#fdca26"
             ],
             [
              1,
              "#f0f921"
             ]
            ],
            "type": "contour"
           }
          ],
          "contourcarpet": [
           {
            "colorbar": {
             "outlinewidth": 0,
             "ticks": ""
            },
            "type": "contourcarpet"
           }
          ],
          "heatmap": [
           {
            "colorbar": {
             "outlinewidth": 0,
             "ticks": ""
            },
            "colorscale": [
             [
              0,
              "#0d0887"
             ],
             [
              0.1111111111111111,
              "#46039f"
             ],
             [
              0.2222222222222222,
              "#7201a8"
             ],
             [
              0.3333333333333333,
              "#9c179e"
             ],
             [
              0.4444444444444444,
              "#bd3786"
             ],
             [
              0.5555555555555556,
              "#d8576b"
             ],
             [
              0.6666666666666666,
              "#ed7953"
             ],
             [
              0.7777777777777778,
              "#fb9f3a"
             ],
             [
              0.8888888888888888,
              "#fdca26"
             ],
             [
              1,
              "#f0f921"
             ]
            ],
            "type": "heatmap"
           }
          ],
          "heatmapgl": [
           {
            "colorbar": {
             "outlinewidth": 0,
             "ticks": ""
            },
            "colorscale": [
             [
              0,
              "#0d0887"
             ],
             [
              0.1111111111111111,
              "#46039f"
             ],
             [
              0.2222222222222222,
              "#7201a8"
             ],
             [
              0.3333333333333333,
              "#9c179e"
             ],
             [
              0.4444444444444444,
              "#bd3786"
             ],
             [
              0.5555555555555556,
              "#d8576b"
             ],
             [
              0.6666666666666666,
              "#ed7953"
             ],
             [
              0.7777777777777778,
              "#fb9f3a"
             ],
             [
              0.8888888888888888,
              "#fdca26"
             ],
             [
              1,
              "#f0f921"
             ]
            ],
            "type": "heatmapgl"
           }
          ],
          "histogram": [
           {
            "marker": {
             "pattern": {
              "fillmode": "overlay",
              "size": 10,
              "solidity": 0.2
             }
            },
            "type": "histogram"
           }
          ],
          "histogram2d": [
           {
            "colorbar": {
             "outlinewidth": 0,
             "ticks": ""
            },
            "colorscale": [
             [
              0,
              "#0d0887"
             ],
             [
              0.1111111111111111,
              "#46039f"
             ],
             [
              0.2222222222222222,
              "#7201a8"
             ],
             [
              0.3333333333333333,
              "#9c179e"
             ],
             [
              0.4444444444444444,
              "#bd3786"
             ],
             [
              0.5555555555555556,
              "#d8576b"
             ],
             [
              0.6666666666666666,
              "#ed7953"
             ],
             [
              0.7777777777777778,
              "#fb9f3a"
             ],
             [
              0.8888888888888888,
              "#fdca26"
             ],
             [
              1,
              "#f0f921"
             ]
            ],
            "type": "histogram2d"
           }
          ],
          "histogram2dcontour": [
           {
            "colorbar": {
             "outlinewidth": 0,
             "ticks": ""
            },
            "colorscale": [
             [
              0,
              "#0d0887"
             ],
             [
              0.1111111111111111,
              "#46039f"
             ],
             [
              0.2222222222222222,
              "#7201a8"
             ],
             [
              0.3333333333333333,
              "#9c179e"
             ],
             [
              0.4444444444444444,
              "#bd3786"
             ],
             [
              0.5555555555555556,
              "#d8576b"
             ],
             [
              0.6666666666666666,
              "#ed7953"
             ],
             [
              0.7777777777777778,
              "#fb9f3a"
             ],
             [
              0.8888888888888888,
              "#fdca26"
             ],
             [
              1,
              "#f0f921"
             ]
            ],
            "type": "histogram2dcontour"
           }
          ],
          "mesh3d": [
           {
            "colorbar": {
             "outlinewidth": 0,
             "ticks": ""
            },
            "type": "mesh3d"
           }
          ],
          "parcoords": [
           {
            "line": {
             "colorbar": {
              "outlinewidth": 0,
              "ticks": ""
             }
            },
            "type": "parcoords"
           }
          ],
          "pie": [
           {
            "automargin": true,
            "type": "pie"
           }
          ],
          "scatter": [
           {
            "fillpattern": {
             "fillmode": "overlay",
             "size": 10,
             "solidity": 0.2
            },
            "type": "scatter"
           }
          ],
          "scatter3d": [
           {
            "line": {
             "colorbar": {
              "outlinewidth": 0,
              "ticks": ""
             }
            },
            "marker": {
             "colorbar": {
              "outlinewidth": 0,
              "ticks": ""
             }
            },
            "type": "scatter3d"
           }
          ],
          "scattercarpet": [
           {
            "marker": {
             "colorbar": {
              "outlinewidth": 0,
              "ticks": ""
             }
            },
            "type": "scattercarpet"
           }
          ],
          "scattergeo": [
           {
            "marker": {
             "colorbar": {
              "outlinewidth": 0,
              "ticks": ""
             }
            },
            "type": "scattergeo"
           }
          ],
          "scattergl": [
           {
            "marker": {
             "colorbar": {
              "outlinewidth": 0,
              "ticks": ""
             }
            },
            "type": "scattergl"
           }
          ],
          "scattermapbox": [
           {
            "marker": {
             "colorbar": {
              "outlinewidth": 0,
              "ticks": ""
             }
            },
            "type": "scattermapbox"
           }
          ],
          "scatterpolar": [
           {
            "marker": {
             "colorbar": {
              "outlinewidth": 0,
              "ticks": ""
             }
            },
            "type": "scatterpolar"
           }
          ],
          "scatterpolargl": [
           {
            "marker": {
             "colorbar": {
              "outlinewidth": 0,
              "ticks": ""
             }
            },
            "type": "scatterpolargl"
           }
          ],
          "scatterternary": [
           {
            "marker": {
             "colorbar": {
              "outlinewidth": 0,
              "ticks": ""
             }
            },
            "type": "scatterternary"
           }
          ],
          "surface": [
           {
            "colorbar": {
             "outlinewidth": 0,
             "ticks": ""
            },
            "colorscale": [
             [
              0,
              "#0d0887"
             ],
             [
              0.1111111111111111,
              "#46039f"
             ],
             [
              0.2222222222222222,
              "#7201a8"
             ],
             [
              0.3333333333333333,
              "#9c179e"
             ],
             [
              0.4444444444444444,
              "#bd3786"
             ],
             [
              0.5555555555555556,
              "#d8576b"
             ],
             [
              0.6666666666666666,
              "#ed7953"
             ],
             [
              0.7777777777777778,
              "#fb9f3a"
             ],
             [
              0.8888888888888888,
              "#fdca26"
             ],
             [
              1,
              "#f0f921"
             ]
            ],
            "type": "surface"
           }
          ],
          "table": [
           {
            "cells": {
             "fill": {
              "color": "#EBF0F8"
             },
             "line": {
              "color": "white"
             }
            },
            "header": {
             "fill": {
              "color": "#C8D4E3"
             },
             "line": {
              "color": "white"
             }
            },
            "type": "table"
           }
          ]
         },
         "layout": {
          "annotationdefaults": {
           "arrowcolor": "#2a3f5f",
           "arrowhead": 0,
           "arrowwidth": 1
          },
          "autotypenumbers": "strict",
          "coloraxis": {
           "colorbar": {
            "outlinewidth": 0,
            "ticks": ""
           }
          },
          "colorscale": {
           "diverging": [
            [
             0,
             "#8e0152"
            ],
            [
             0.1,
             "#c51b7d"
            ],
            [
             0.2,
             "#de77ae"
            ],
            [
             0.3,
             "#f1b6da"
            ],
            [
             0.4,
             "#fde0ef"
            ],
            [
             0.5,
             "#f7f7f7"
            ],
            [
             0.6,
             "#e6f5d0"
            ],
            [
             0.7,
             "#b8e186"
            ],
            [
             0.8,
             "#7fbc41"
            ],
            [
             0.9,
             "#4d9221"
            ],
            [
             1,
             "#276419"
            ]
           ],
           "sequential": [
            [
             0,
             "#0d0887"
            ],
            [
             0.1111111111111111,
             "#46039f"
            ],
            [
             0.2222222222222222,
             "#7201a8"
            ],
            [
             0.3333333333333333,
             "#9c179e"
            ],
            [
             0.4444444444444444,
             "#bd3786"
            ],
            [
             0.5555555555555556,
             "#d8576b"
            ],
            [
             0.6666666666666666,
             "#ed7953"
            ],
            [
             0.7777777777777778,
             "#fb9f3a"
            ],
            [
             0.8888888888888888,
             "#fdca26"
            ],
            [
             1,
             "#f0f921"
            ]
           ],
           "sequentialminus": [
            [
             0,
             "#0d0887"
            ],
            [
             0.1111111111111111,
             "#46039f"
            ],
            [
             0.2222222222222222,
             "#7201a8"
            ],
            [
             0.3333333333333333,
             "#9c179e"
            ],
            [
             0.4444444444444444,
             "#bd3786"
            ],
            [
             0.5555555555555556,
             "#d8576b"
            ],
            [
             0.6666666666666666,
             "#ed7953"
            ],
            [
             0.7777777777777778,
             "#fb9f3a"
            ],
            [
             0.8888888888888888,
             "#fdca26"
            ],
            [
             1,
             "#f0f921"
            ]
           ]
          },
          "colorway": [
           "#636efa",
           "#EF553B",
           "#00cc96",
           "#ab63fa",
           "#FFA15A",
           "#19d3f3",
           "#FF6692",
           "#B6E880",
           "#FF97FF",
           "#FECB52"
          ],
          "font": {
           "color": "#2a3f5f"
          },
          "geo": {
           "bgcolor": "white",
           "lakecolor": "white",
           "landcolor": "#E5ECF6",
           "showlakes": true,
           "showland": true,
           "subunitcolor": "white"
          },
          "hoverlabel": {
           "align": "left"
          },
          "hovermode": "closest",
          "mapbox": {
           "style": "light"
          },
          "paper_bgcolor": "white",
          "plot_bgcolor": "#E5ECF6",
          "polar": {
           "angularaxis": {
            "gridcolor": "white",
            "linecolor": "white",
            "ticks": ""
           },
           "bgcolor": "#E5ECF6",
           "radialaxis": {
            "gridcolor": "white",
            "linecolor": "white",
            "ticks": ""
           }
          },
          "scene": {
           "xaxis": {
            "backgroundcolor": "#E5ECF6",
            "gridcolor": "white",
            "gridwidth": 2,
            "linecolor": "white",
            "showbackground": true,
            "ticks": "",
            "zerolinecolor": "white"
           },
           "yaxis": {
            "backgroundcolor": "#E5ECF6",
            "gridcolor": "white",
            "gridwidth": 2,
            "linecolor": "white",
            "showbackground": true,
            "ticks": "",
            "zerolinecolor": "white"
           },
           "zaxis": {
            "backgroundcolor": "#E5ECF6",
            "gridcolor": "white",
            "gridwidth": 2,
            "linecolor": "white",
            "showbackground": true,
            "ticks": "",
            "zerolinecolor": "white"
           }
          },
          "shapedefaults": {
           "line": {
            "color": "#2a3f5f"
           }
          },
          "ternary": {
           "aaxis": {
            "gridcolor": "white",
            "linecolor": "white",
            "ticks": ""
           },
           "baxis": {
            "gridcolor": "white",
            "linecolor": "white",
            "ticks": ""
           },
           "bgcolor": "#E5ECF6",
           "caxis": {
            "gridcolor": "white",
            "linecolor": "white",
            "ticks": ""
           }
          },
          "title": {
           "x": 0.05
          },
          "xaxis": {
           "automargin": true,
           "gridcolor": "white",
           "linecolor": "white",
           "ticks": "",
           "title": {
            "standoff": 15
           },
           "zerolinecolor": "white",
           "zerolinewidth": 2
          },
          "yaxis": {
           "automargin": true,
           "gridcolor": "white",
           "linecolor": "white",
           "ticks": "",
           "title": {
            "standoff": 15
           },
           "zerolinecolor": "white",
           "zerolinewidth": 2
          }
         }
        },
        "xaxis": {
         "anchor": "y",
         "autorange": true,
         "domain": [
          0,
          1
         ],
         "range": [
          0.5,
          5.5
         ],
         "title": {
          "text": "rating"
         },
         "type": "linear"
        },
        "yaxis": {
         "anchor": "x",
         "autorange": true,
         "domain": [
          0,
          1
         ],
         "range": [
          0,
          49888.42105263158
         ],
         "title": {
          "text": "frequency"
         },
         "type": "linear"
        }
       }
      },
      "image/png": "[encoded data removed]"
     },
     "metadata": {},
     "output_type": "display_data"
    }
   ],
   "source": [
    "# Stratify sample 10% of the original dataframe \n",
    "df = df_full.groupby(['rating']).sample(frac=0.1, random_state=42)\n",
    "print(len(df))\n",
    "\n",
    "# Make a grouped dataframe by rating counting frequency of rating and then making a bar graph of it\n",
    "grouped_df_2 = df.groupby(['rating']).size().reset_index(name='frequency')\n",
    "fig = px.bar(grouped_df_2, x='rating', y='frequency')\n",
    "fig.show('plotly_mimetype')"
   ]
  },
  {
   "cell_type": "markdown",
   "id": "540964ee-9575-4224-8f98-e859dd612d54",
   "metadata": {},
   "source": [
    "We can ensure that the data was stratified properly by making a side-by-side bar graph of the relative frequency of the rating in the original and subset dataframes. We see that the relative frequencies match closely."
   ]
  },
  {
   "cell_type": "code",
   "execution_count": 14,
   "id": "305151f3a88282e1",
   "metadata": {
    "ExecuteTime": {
     "end_time": "2024-11-16T22:39:48.564344100Z",
     "start_time": "2024-11-16T22:39:45.813394400Z"
    },
    "collapsed": false,
    "jupyter": {
     "outputs_hidden": false
    }
   },
   "outputs": [
    {
     "data": {
      "application/vnd.plotly.v1+json": {
       "config": {
        "plotlyServerURL": "https://plot.ly"
       },
       "data": [
        {
         "alignmentgroup": "True",
         "hovertemplate": "Frequency Original: %{y}",
         "legendgroup": "frequency_x",
         "marker": {
          "color": "#636efa",
          "pattern": {
           "shape": ""
          }
         },
         "name": "Frequency Original",
         "offsetgroup": "frequency_x",
         "orientation": "v",
         "showlegend": true,
         "textposition": "auto",
         "type": "bar",
         "x": [
          1,
          2,
          3,
          4,
          5
         ],
         "xaxis": "x",
         "y": [
          0.03362331994220804,
          0.08431825848753664,
          0.21820747253341707,
          0.36078576628817394,
          0.30306518274866434
         ],
         "yaxis": "y"
        },
        {
         "alignmentgroup": "True",
         "hovertemplate": "Frequency Stratified: %{y}",
         "legendgroup": "frequency_y",
         "marker": {
          "color": "#EF553B",
          "pattern": {
           "shape": ""
          }
         },
         "name": "Frequency Stratified",
         "offsetgroup": "frequency_y",
         "orientation": "v",
         "showlegend": true,
         "textposition": "auto",
         "type": "bar",
         "x": [
          1,
          2,
          3,
          4,
          5
         ],
         "xaxis": "x",
         "y": [
          0.033823071134859044,
          0.08480850061185556,
          0.2186110498833294,
          0.36022710862146284,
          0.3025302697484932
         ],
         "yaxis": "y"
        }
       ],
       "layout": {
        "autosize": true,
        "barmode": "group",
        "legend": {
         "title": {
          "text": "variable"
         },
         "tracegroupgap": 0
        },
        "margin": {
         "t": 60
        },
        "template": {
         "data": {
          "bar": [
           {
            "error_x": {
             "color": "#2a3f5f"
            },
            "error_y": {
             "color": "#2a3f5f"
            },
            "marker": {
             "line": {
              "color": "#E5ECF6",
              "width": 0.5
             },
             "pattern": {
              "fillmode": "overlay",
              "size": 10,
              "solidity": 0.2
             }
            },
            "type": "bar"
           }
          ],
          "barpolar": [
           {
            "marker": {
             "line": {
              "color": "#E5ECF6",
              "width": 0.5
             },
             "pattern": {
              "fillmode": "overlay",
              "size": 10,
              "solidity": 0.2
             }
            },
            "type": "barpolar"
           }
          ],
          "carpet": [
           {
            "aaxis": {
             "endlinecolor": "#2a3f5f",
             "gridcolor": "white",
             "linecolor": "white",
             "minorgridcolor": "white",
             "startlinecolor": "#2a3f5f"
            },
            "baxis": {
             "endlinecolor": "#2a3f5f",
             "gridcolor": "white",
             "linecolor": "white",
             "minorgridcolor": "white",
             "startlinecolor": "#2a3f5f"
            },
            "type": "carpet"
           }
          ],
          "choropleth": [
           {
            "colorbar": {
             "outlinewidth": 0,
             "ticks": ""
            },
            "type": "choropleth"
           }
          ],
          "contour": [
           {
            "colorbar": {
             "outlinewidth": 0,
             "ticks": ""
            },
            "colorscale": [
             [
              0,
              "#0d0887"
             ],
             [
              0.1111111111111111,
              "#46039f"
             ],
             [
              0.2222222222222222,
              "#7201a8"
             ],
             [
              0.3333333333333333,
              "#9c179e"
             ],
             [
              0.4444444444444444,
              "#bd3786"
             ],
             [
              0.5555555555555556,
              "#d8576b"
             ],
             [
              0.6666666666666666,
              "#ed7953"
             ],
             [
              0.7777777777777778,
              "#fb9f3a"
             ],
             [
              0.8888888888888888,
              "#fdca26"
             ],
             [
              1,
              "#f0f921"
             ]
            ],
            "type": "contour"
           }
          ],
          "contourcarpet": [
           {
            "colorbar": {
             "outlinewidth": 0,
             "ticks": ""
            },
            "type": "contourcarpet"
           }
          ],
          "heatmap": [
           {
            "colorbar": {
             "outlinewidth": 0,
             "ticks": ""
            },
            "colorscale": [
             [
              0,
              "#0d0887"
             ],
             [
              0.1111111111111111,
              "#46039f"
             ],
             [
              0.2222222222222222,
              "#7201a8"
             ],
             [
              0.3333333333333333,
              "#9c179e"
             ],
             [
              0.4444444444444444,
              "#bd3786"
             ],
             [
              0.5555555555555556,
              "#d8576b"
             ],
             [
              0.6666666666666666,
              "#ed7953"
             ],
             [
              0.7777777777777778,
              "#fb9f3a"
             ],
             [
              0.8888888888888888,
              "#fdca26"
             ],
             [
              1,
              "#f0f921"
             ]
            ],
            "type": "heatmap"
           }
          ],
          "heatmapgl": [
           {
            "colorbar": {
             "outlinewidth": 0,
             "ticks": ""
            },
            "colorscale": [
             [
              0,
              "#0d0887"
             ],
             [
              0.1111111111111111,
              "#46039f"
             ],
             [
              0.2222222222222222,
              "#7201a8"
             ],
             [
              0.3333333333333333,
              "#9c179e"
             ],
             [
              0.4444444444444444,
              "#bd3786"
             ],
             [
              0.5555555555555556,
              "#d8576b"
             ],
             [
              0.6666666666666666,
              "#ed7953"
             ],
             [
              0.7777777777777778,
              "#fb9f3a"
             ],
             [
              0.8888888888888888,
              "#fdca26"
             ],
             [
              1,
              "#f0f921"
             ]
            ],
            "type": "heatmapgl"
           }
          ],
          "histogram": [
           {
            "marker": {
             "pattern": {
              "fillmode": "overlay",
              "size": 10,
              "solidity": 0.2
             }
            },
            "type": "histogram"
           }
          ],
          "histogram2d": [
           {
            "colorbar": {
             "outlinewidth": 0,
             "ticks": ""
            },
            "colorscale": [
             [
              0,
              "#0d0887"
             ],
             [
              0.1111111111111111,
              "#46039f"
             ],
             [
              0.2222222222222222,
              "#7201a8"
             ],
             [
              0.3333333333333333,
              "#9c179e"
             ],
             [
              0.4444444444444444,
              "#bd3786"
             ],
             [
              0.5555555555555556,
              "#d8576b"
             ],
             [
              0.6666666666666666,
              "#ed7953"
             ],
             [
              0.7777777777777778,
              "#fb9f3a"
             ],
             [
              0.8888888888888888,
              "#fdca26"
             ],
             [
              1,
              "#f0f921"
             ]
            ],
            "type": "histogram2d"
           }
          ],
          "histogram2dcontour": [
           {
            "colorbar": {
             "outlinewidth": 0,
             "ticks": ""
            },
            "colorscale": [
             [
              0,
              "#0d0887"
             ],
             [
              0.1111111111111111,
              "#46039f"
             ],
             [
              0.2222222222222222,
              "#7201a8"
             ],
             [
              0.3333333333333333,
              "#9c179e"
             ],
             [
              0.4444444444444444,
              "#bd3786"
             ],
             [
              0.5555555555555556,
              "#d8576b"
             ],
             [
              0.6666666666666666,
              "#ed7953"
             ],
             [
              0.7777777777777778,
              "#fb9f3a"
             ],
             [
              0.8888888888888888,
              "#fdca26"
             ],
             [
              1,
              "#f0f921"
             ]
            ],
            "type": "histogram2dcontour"
           }
          ],
          "mesh3d": [
           {
            "colorbar": {
             "outlinewidth": 0,
             "ticks": ""
            },
            "type": "mesh3d"
           }
          ],
          "parcoords": [
           {
            "line": {
             "colorbar": {
              "outlinewidth": 0,
              "ticks": ""
             }
            },
            "type": "parcoords"
           }
          ],
          "pie": [
           {
            "automargin": true,
            "type": "pie"
           }
          ],
          "scatter": [
           {
            "fillpattern": {
             "fillmode": "overlay",
             "size": 10,
             "solidity": 0.2
            },
            "type": "scatter"
           }
          ],
          "scatter3d": [
           {
            "line": {
             "colorbar": {
              "outlinewidth": 0,
              "ticks": ""
             }
            },
            "marker": {
             "colorbar": {
              "outlinewidth": 0,
              "ticks": ""
             }
            },
            "type": "scatter3d"
           }
          ],
          "scattercarpet": [
           {
            "marker": {
             "colorbar": {
              "outlinewidth": 0,
              "ticks": ""
             }
            },
            "type": "scattercarpet"
           }
          ],
          "scattergeo": [
           {
            "marker": {
             "colorbar": {
              "outlinewidth": 0,
              "ticks": ""
             }
            },
            "type": "scattergeo"
           }
          ],
          "scattergl": [
           {
            "marker": {
             "colorbar": {
              "outlinewidth": 0,
              "ticks": ""
             }
            },
            "type": "scattergl"
           }
          ],
          "scattermapbox": [
           {
            "marker": {
             "colorbar": {
              "outlinewidth": 0,
              "ticks": ""
             }
            },
            "type": "scattermapbox"
           }
          ],
          "scatterpolar": [
           {
            "marker": {
             "colorbar": {
              "outlinewidth": 0,
              "ticks": ""
             }
            },
            "type": "scatterpolar"
           }
          ],
          "scatterpolargl": [
           {
            "marker": {
             "colorbar": {
              "outlinewidth": 0,
              "ticks": ""
             }
            },
            "type": "scatterpolargl"
           }
          ],
          "scatterternary": [
           {
            "marker": {
             "colorbar": {
              "outlinewidth": 0,
              "ticks": ""
             }
            },
            "type": "scatterternary"
           }
          ],
          "surface": [
           {
            "colorbar": {
             "outlinewidth": 0,
             "ticks": ""
            },
            "colorscale": [
             [
              0,
              "#0d0887"
             ],
             [
              0.1111111111111111,
              "#46039f"
             ],
             [
              0.2222222222222222,
              "#7201a8"
             ],
             [
              0.3333333333333333,
              "#9c179e"
             ],
             [
              0.4444444444444444,
              "#bd3786"
             ],
             [
              0.5555555555555556,
              "#d8576b"
             ],
             [
              0.6666666666666666,
              "#ed7953"
             ],
             [
              0.7777777777777778,
              "#fb9f3a"
             ],
             [
              0.8888888888888888,
              "#fdca26"
             ],
             [
              1,
              "#f0f921"
             ]
            ],
            "type": "surface"
           }
          ],
          "table": [
           {
            "cells": {
             "fill": {
              "color": "#EBF0F8"
             },
             "line": {
              "color": "white"
             }
            },
            "header": {
             "fill": {
              "color": "#C8D4E3"
             },
             "line": {
              "color": "white"
             }
            },
            "type": "table"
           }
          ]
         },
         "layout": {
          "annotationdefaults": {
           "arrowcolor": "#2a3f5f",
           "arrowhead": 0,
           "arrowwidth": 1
          },
          "autotypenumbers": "strict",
          "coloraxis": {
           "colorbar": {
            "outlinewidth": 0,
            "ticks": ""
           }
          },
          "colorscale": {
           "diverging": [
            [
             0,
             "#8e0152"
            ],
            [
             0.1,
             "#c51b7d"
            ],
            [
             0.2,
             "#de77ae"
            ],
            [
             0.3,
             "#f1b6da"
            ],
            [
             0.4,
             "#fde0ef"
            ],
            [
             0.5,
             "#f7f7f7"
            ],
            [
             0.6,
             "#e6f5d0"
            ],
            [
             0.7,
             "#b8e186"
            ],
            [
             0.8,
             "#7fbc41"
            ],
            [
             0.9,
             "#4d9221"
            ],
            [
             1,
             "#276419"
            ]
           ],
           "sequential": [
            [
             0,
             "#0d0887"
            ],
            [
             0.1111111111111111,
             "#46039f"
            ],
            [
             0.2222222222222222,
             "#7201a8"
            ],
            [
             0.3333333333333333,
             "#9c179e"
            ],
            [
             0.4444444444444444,
             "#bd3786"
            ],
            [
             0.5555555555555556,
             "#d8576b"
            ],
            [
             0.6666666666666666,
             "#ed7953"
            ],
            [
             0.7777777777777778,
             "#fb9f3a"
            ],
            [
             0.8888888888888888,
             "#fdca26"
            ],
            [
             1,
             "#f0f921"
            ]
           ],
           "sequentialminus": [
            [
             0,
             "#0d0887"
            ],
            [
             0.1111111111111111,
             "#46039f"
            ],
            [
             0.2222222222222222,
             "#7201a8"
            ],
            [
             0.3333333333333333,
             "#9c179e"
            ],
            [
             0.4444444444444444,
             "#bd3786"
            ],
            [
             0.5555555555555556,
             "#d8576b"
            ],
            [
             0.6666666666666666,
             "#ed7953"
            ],
            [
             0.7777777777777778,
             "#fb9f3a"
            ],
            [
             0.8888888888888888,
             "#fdca26"
            ],
            [
             1,
             "#f0f921"
            ]
           ]
          },
          "colorway": [
           "#636efa",
           "#EF553B",
           "#00cc96",
           "#ab63fa",
           "#FFA15A",
           "#19d3f3",
           "#FF6692",
           "#B6E880",
           "#FF97FF",
           "#FECB52"
          ],
          "font": {
           "color": "#2a3f5f"
          },
          "geo": {
           "bgcolor": "white",
           "lakecolor": "white",
           "landcolor": "#E5ECF6",
           "showlakes": true,
           "showland": true,
           "subunitcolor": "white"
          },
          "hoverlabel": {
           "align": "left"
          },
          "hovermode": "closest",
          "mapbox": {
           "style": "light"
          },
          "paper_bgcolor": "white",
          "plot_bgcolor": "#E5ECF6",
          "polar": {
           "angularaxis": {
            "gridcolor": "white",
            "linecolor": "white",
            "ticks": ""
           },
           "bgcolor": "#E5ECF6",
           "radialaxis": {
            "gridcolor": "white",
            "linecolor": "white",
            "ticks": ""
           }
          },
          "scene": {
           "xaxis": {
            "backgroundcolor": "#E5ECF6",
            "gridcolor": "white",
            "gridwidth": 2,
            "linecolor": "white",
            "showbackground": true,
            "ticks": "",
            "zerolinecolor": "white"
           },
           "yaxis": {
            "backgroundcolor": "#E5ECF6",
            "gridcolor": "white",
            "gridwidth": 2,
            "linecolor": "white",
            "showbackground": true,
            "ticks": "",
            "zerolinecolor": "white"
           },
           "zaxis": {
            "backgroundcolor": "#E5ECF6",
            "gridcolor": "white",
            "gridwidth": 2,
            "linecolor": "white",
            "showbackground": true,
            "ticks": "",
            "zerolinecolor": "white"
           }
          },
          "shapedefaults": {
           "line": {
            "color": "#2a3f5f"
           }
          },
          "ternary": {
           "aaxis": {
            "gridcolor": "white",
            "linecolor": "white",
            "ticks": ""
           },
           "baxis": {
            "gridcolor": "white",
            "linecolor": "white",
            "ticks": ""
           },
           "bgcolor": "#E5ECF6",
           "caxis": {
            "gridcolor": "white",
            "linecolor": "white",
            "ticks": ""
           }
          },
          "title": {
           "x": 0.05
          },
          "xaxis": {
           "automargin": true,
           "gridcolor": "white",
           "linecolor": "white",
           "ticks": "",
           "title": {
            "standoff": 15
           },
           "zerolinecolor": "white",
           "zerolinewidth": 2
          },
          "yaxis": {
           "automargin": true,
           "gridcolor": "white",
           "linecolor": "white",
           "ticks": "",
           "title": {
            "standoff": 15
           },
           "zerolinecolor": "white",
           "zerolinewidth": 2
          }
         }
        },
        "xaxis": {
         "anchor": "y",
         "autorange": true,
         "domain": [
          0,
          1
         ],
         "range": [
          0.5,
          5.5
         ],
         "title": {
          "text": "rating"
         },
         "type": "linear"
        },
        "yaxis": {
         "anchor": "x",
         "autorange": true,
         "domain": [
          0,
          1
         ],
         "range": [
          0,
          0.37977449082965675
         ],
         "title": {
          "text": "Relative Frequency"
         },
         "type": "linear"
        }
       }
      },
      "image/png": "[encoded data removed]"
     },
     "metadata": {},
     "output_type": "display_data"
    }
   ],
   "source": [
    "# Get relative frequencies based on total amount of rows\n",
    "grouped_df['frequency'] = grouped_df['frequency'] / grouped_df['frequency'].sum()\n",
    "grouped_df_2['frequency'] = grouped_df_2['frequency'] / grouped_df_2['frequency'].sum()\n",
    "\n",
    "# Merge the dataframes into one dataframe based on rating\n",
    "df_combined = pd.merge(grouped_df, grouped_df_2, on='rating')\n",
    "\n",
    "# Make the side-by-side bar chart\n",
    "fig = px.bar(df_combined, x='rating', y=['frequency_x', 'frequency_y'], barmode='group',\n",
    "             labels={'value': 'Relative Frequency'})\n",
    "\n",
    "# Change the labels of the variables\n",
    "fig.data[0].name = \"Frequency Original\"\n",
    "fig.data[0].hovertemplate = \"Frequency Original: %{y}\"\n",
    "fig.data[1].name = \"Frequency Stratified\"\n",
    "fig.data[1].hovertemplate = \"Frequency Stratified: %{y}\"\n",
    "    \n",
    "fig.show('plotly_mimetype')\n",
    "\n",
    "#fig.write_image('stratified.png')"
   ]
  },
  {
   "cell_type": "markdown",
   "id": "4035bdab-eb97-4633-87a7-5fb5207d4bc1",
   "metadata": {},
   "source": [
    "Now we make the train and test sets. We use `GroupShuffleSplit` instead of scikit-learn's `train_test_split`, because we want books with the same ID to *not* be split across the train and test set, hoping that the BERT model will be able to better learn sentiment analysis if all of the same book are in one part of the set. "
   ]
  },
  {
   "cell_type": "code",
   "execution_count": 15,
   "id": "46ffd479-9eb6-4030-8eae-5bdfd14c707e",
   "metadata": {
    "ExecuteTime": {
     "end_time": "2024-11-16T22:39:48.626344700Z",
     "start_time": "2024-11-16T22:39:48.565843900Z"
    }
   },
   "outputs": [
    {
     "name": "stdout",
     "output_type": "stream",
     "text": [
      "105253\n",
      "26314\n"
     ]
    }
   ],
   "source": [
    "group_kfold = GroupShuffleSplit(n_splits=1, test_size=0.2, random_state=42)\n",
    "\n",
    "# Iterate the GroupShuffleSplit for 1 split, grouping the dataframe and its ratings based on book ID, as described earlier\n",
    "train_set, test_set = None, None\n",
    "for train_index, test_index in group_kfold.split(df, df['rating'], groups=df['book_id']):\n",
    "    train_set = df.iloc[train_index]\n",
    "    test_set = df.iloc[test_index]\n",
    "\n",
    "print(len(train_set))\n",
    "print(len(test_set))"
   ]
  },
  {
   "cell_type": "markdown",
   "id": "1b9587d9-917a-4c91-bd95-c4d3301377fb",
   "metadata": {},
   "source": [
    "We then drop all the unnecessary columns for sentiment analysis. We just keep the rating and the review text. We do this after group splitting, since we are dropping the book id, as it is not needed by BERT."
   ]
  },
  {
   "cell_type": "code",
   "execution_count": 16,
   "id": "8f8897bddd46325e",
   "metadata": {
    "ExecuteTime": {
     "end_time": "2024-11-16T22:39:48.658343800Z",
     "start_time": "2024-11-16T22:39:48.627344Z"
    },
    "collapsed": false,
    "jupyter": {
     "outputs_hidden": false
    }
   },
   "outputs": [],
   "source": [
    "train_set = train_set.drop(['user_id', 'book_id', 'review_id', 'date_added', 'date_updated',\n",
    "                            'read_at', 'started_at', 'n_votes', 'n_comments'], axis=1)\n",
    "test_set = test_set.drop(['user_id', 'book_id', 'review_id', 'date_added', 'date_updated',\n",
    "                            'read_at', 'started_at', 'n_votes', 'n_comments'], axis=1)"
   ]
  },
  {
   "cell_type": "markdown",
   "id": "4561188b-24f3-408b-8244-3c16b8ce5c00",
   "metadata": {},
   "source": [
    "We then use `train_test_split` to make a validation set. It is fine that we don't use `GroupShuffleSplit` again, since all of these data points will be used only in training/validation per epoch. We take a 20% validation size of the 80% full training size. "
   ]
  },
  {
   "cell_type": "code",
   "execution_count": 17,
   "id": "54dcd5a85d4d448c",
   "metadata": {
    "ExecuteTime": {
     "end_time": "2024-11-16T22:39:48.704844Z",
     "start_time": "2024-11-16T22:39:48.659344600Z"
    },
    "collapsed": false,
    "jupyter": {
     "outputs_hidden": false
    }
   },
   "outputs": [],
   "source": [
    "X_train = train_set['review_text'].tolist()\n",
    "y_train = train_set['rating'].tolist()\n",
    "X_test = test_set['review_text'].tolist()\n",
    "y_test = test_set['rating'].tolist()\n",
    "\n",
    "# Make a validation set out of the full 80% train set\n",
    "X_train, X_val, y_train, y_val = train_test_split(X_train, y_train, test_size=0.2, random_state=42)"
   ]
  },
  {
   "cell_type": "markdown",
   "id": "f440600d-a623-492e-9f73-fe559f428457",
   "metadata": {},
   "source": [
    "### BERT-Tiny Sentiment Analysis\n",
    "\n",
    "BERT is an extremely large and computationally expensive model with millions of trainable parameters. To save training time and resources, we use the smallest of the BERT models, BERT-Tiny. We fetch the tokenizer required for BERT-Tiny."
   ]
  },
  {
   "cell_type": "code",
   "execution_count": 20,
   "id": "c4d3ffa9-2175-4c85-b511-1a09fa936900",
   "metadata": {
    "ExecuteTime": {
     "end_time": "2024-11-16T22:39:49.367986600Z",
     "start_time": "2024-11-16T22:39:48.704344100Z"
    }
   },
   "outputs": [
    {
     "name": "stderr",
     "output_type": "stream",
     "text": [
      "C:\\Users\\nghug\\anaconda3\\envs\\fp2\\lib\\site-packages\\huggingface_hub\\file_download.py:797: FutureWarning:\n",
      "\n",
      "`resume_download` is deprecated and will be removed in version 1.0.0. Downloads always resume when possible. If you want to force a new download, use `force_download=True`.\n",
      "\n"
     ]
    }
   ],
   "source": [
    "tokenizer = AutoTokenizer.from_pretrained(\"prajjwal1/bert-tiny\")"
   ]
  },
  {
   "cell_type": "markdown",
   "id": "e54878ff-f3b6-485f-93d1-8ccf98f3ac69",
   "metadata": {},
   "source": [
    "We then use the tokenizer to tokenize the train, test, and validation sets, truncated and padding when needed, using a max length of 200."
   ]
  },
  {
   "cell_type": "code",
   "execution_count": 21,
   "id": "c41ddc3b05d01781",
   "metadata": {
    "ExecuteTime": {
     "end_time": "2024-11-16T22:40:37.248618Z",
     "start_time": "2024-11-16T22:39:49.369486400Z"
    },
    "collapsed": false,
    "jupyter": {
     "outputs_hidden": false
    }
   },
   "outputs": [],
   "source": [
    "train_encodings = tokenizer(X_train, truncation=True, padding=True, max_length=200)\n",
    "val_encodings = tokenizer(X_val, truncation=True, padding=True, max_length=200)\n",
    "test_encodings = tokenizer(X_test, truncation=True, padding=True, max_length=200)"
   ]
  },
  {
   "cell_type": "markdown",
   "id": "2a0f1a11-7533-452f-8b75-27d3d0fcb738",
   "metadata": {},
   "source": [
    "Then we fetch the pre-trained model for BERT-Tiny. We require 6 labels instead of 5, since our rating values are not one-hot encoded and range from 1-5, not 0-4. We compile it using a 1e-5 learning rate Adam optimizer and we use sparse categorical crossentropy as our minimizing loss function. We track the accuracy."
   ]
  },
  {
   "cell_type": "code",
   "execution_count": 25,
   "id": "1bfb8c5dae90ae86",
   "metadata": {
    "ExecuteTime": {
     "end_time": "2024-11-16T22:45:16.535265500Z",
     "start_time": "2024-11-16T22:45:16.153785500Z"
    },
    "collapsed": false,
    "jupyter": {
     "outputs_hidden": false
    }
   },
   "outputs": [
    {
     "name": "stderr",
     "output_type": "stream",
     "text": [
      "C:\\Users\\nghug\\anaconda3\\envs\\fp2\\lib\\site-packages\\huggingface_hub\\file_download.py:797: FutureWarning:\n",
      "\n",
      "`resume_download` is deprecated and will be removed in version 1.0.0. Downloads always resume when possible. If you want to force a new download, use `force_download=True`.\n",
      "\n",
      "C:\\Users\\nghug\\anaconda3\\envs\\fp2\\lib\\site-packages\\transformers\\modeling_tf_pytorch_utils.py:129: FutureWarning:\n",
      "\n",
      "You are using `torch.load` with `weights_only=False` (the current default value), which uses the default pickle module implicitly. It is possible to construct malicious pickle data which will execute arbitrary code during unpickling (See https://github.com/pytorch/pytorch/blob/main/SECURITY.md#untrusted-models for more details). In a future release, the default value for `weights_only` will be flipped to `True`. This limits the functions that could be executed during unpickling. Arbitrary objects will no longer be allowed to be loaded via this mode unless they are explicitly allowlisted by the user via `torch.serialization.add_safe_globals`. We recommend you start setting `weights_only=True` for any use case where you don't have full control of the loaded file. Please open an issue on GitHub for any issues related to this experimental feature.\n",
      "\n",
      "Some weights of the PyTorch model were not used when initializing the TF 2.0 model TFBertForSequenceClassification: ['bert.embeddings.position_ids']\n",
      "- This IS expected if you are initializing TFBertForSequenceClassification from a PyTorch model trained on another task or with another architecture (e.g. initializing a TFBertForSequenceClassification model from a BertForPreTraining model).\n",
      "- This IS NOT expected if you are initializing TFBertForSequenceClassification from a PyTorch model that you expect to be exactly identical (e.g. initializing a TFBertForSequenceClassification model from a BertForSequenceClassification model).\n",
      "Some weights or buffers of the TF 2.0 model TFBertForSequenceClassification were not initialized from the PyTorch model and are newly initialized: ['classifier.weight', 'classifier.bias']\n",
      "You should probably TRAIN this model on a down-stream task to be able to use it for predictions and inference.\n"
     ]
    }
   ],
   "source": [
    "# Fetch the model\n",
    "model = TFAutoModelForSequenceClassification.from_pretrained(\"prajjwal1/bert-tiny\", num_labels=6, from_pt=True)\n",
    "\n",
    "# Compile it\n",
    "optimizer = tf.keras.optimizers.Adam(learning_rate=1e-5)\n",
    "model.compile(optimizer=optimizer, loss='sparse_categorical_crossentropy', metrics=['accuracy'])"
   ]
  },
  {
   "cell_type": "markdown",
   "id": "7d1cf751-8aec-4599-97c9-a07076c677ad",
   "metadata": {},
   "source": [
    "These tokenized sets cannot themselves be passed into the model. We have to using Tensoflow's `from_tensor_slices` function to be able to train on the data. The slices contain a dictionary of the train encodings, and their respective rating values in `y_train` for example. "
   ]
  },
  {
   "cell_type": "code",
   "execution_count": 26,
   "id": "975995271b392807",
   "metadata": {
    "ExecuteTime": {
     "end_time": "2024-11-16T22:46:49.533783900Z",
     "start_time": "2024-11-16T22:45:20.939784600Z"
    },
    "collapsed": false,
    "jupyter": {
     "outputs_hidden": false
    }
   },
   "outputs": [],
   "source": [
    "train_dataset = tf.data.Dataset.from_tensor_slices((\n",
    "    dict(train_encodings),\n",
    "    y_train\n",
    "))\n",
    "val_dataset = tf.data.Dataset.from_tensor_slices((\n",
    "    dict(val_encodings),\n",
    "    y_val\n",
    "))\n",
    "test_dataset = tf.data.Dataset.from_tensor_slices((\n",
    "    dict(test_encodings),\n",
    "    y_test\n",
    "))"
   ]
  },
  {
   "cell_type": "markdown",
   "id": "8a8d55b2-6f10-43f9-9bd3-3aeb8259a6bf",
   "metadata": {},
   "source": [
    "We now train the model. We shuffle an train in batches of 16 for 30 epochs. We introduce two training callbacks: `EarlyStopping` monitoring validation loss with a patience of 3 epochs, and a `ModelCheckpoint` saving the best model per epoch based on val loss, saving only the best model and only its weights."
   ]
  },
  {
   "cell_type": "code",
   "execution_count": 27,
   "id": "76585930e4cfc2a6",
   "metadata": {
    "ExecuteTime": {
     "end_time": "2024-11-16T23:21:07.441170800Z",
     "start_time": "2024-11-16T22:46:49.535782800Z"
    },
    "collapsed": false,
    "jupyter": {
     "outputs_hidden": false
    }
   },
   "outputs": [
    {
     "name": "stdout",
     "output_type": "stream",
     "text": [
      "Epoch 1/30\n",
      "5263/5263 [==============================] - 143s 27ms/step - loss: 2.1290 - accuracy: 0.3480 - val_loss: 1.4231 - val_accuracy: 0.3804\n",
      "Epoch 2/30\n",
      "5263/5263 [==============================] - 135s 26ms/step - loss: 1.4066 - accuracy: 0.3795 - val_loss: 1.3108 - val_accuracy: 0.4280\n",
      "Epoch 3/30\n",
      "5263/5263 [==============================] - 135s 26ms/step - loss: 1.3097 - accuracy: 0.4378 - val_loss: 1.2679 - val_accuracy: 0.4463\n",
      "Epoch 4/30\n",
      "5263/5263 [==============================] - 139s 26ms/step - loss: 1.2518 - accuracy: 0.4667 - val_loss: 1.2054 - val_accuracy: 0.4738\n",
      "Epoch 5/30\n",
      "5263/5263 [==============================] - 136s 26ms/step - loss: 1.2095 - accuracy: 0.4870 - val_loss: 1.1743 - val_accuracy: 0.4956\n",
      "Epoch 6/30\n",
      "5263/5263 [==============================] - 136s 26ms/step - loss: 1.1669 - accuracy: 0.4970 - val_loss: 1.1411 - val_accuracy: 0.5059\n",
      "Epoch 7/30\n",
      "5263/5263 [==============================] - 138s 26ms/step - loss: 1.1416 - accuracy: 0.5094 - val_loss: 1.1324 - val_accuracy: 0.5105\n",
      "Epoch 8/30\n",
      "5263/5263 [==============================] - 137s 26ms/step - loss: 1.1341 - accuracy: 0.5149 - val_loss: 1.1083 - val_accuracy: 0.5209\n",
      "Epoch 9/30\n",
      "5263/5263 [==============================] - 138s 26ms/step - loss: 1.1147 - accuracy: 0.5235 - val_loss: 1.1046 - val_accuracy: 0.5252\n",
      "Epoch 10/30\n",
      "5263/5263 [==============================] - 137s 26ms/step - loss: 1.0977 - accuracy: 0.5285 - val_loss: 1.1193 - val_accuracy: 0.5223\n",
      "Epoch 11/30\n",
      "5263/5263 [==============================] - 137s 26ms/step - loss: 1.0816 - accuracy: 0.5361 - val_loss: 1.1170 - val_accuracy: 0.5327\n",
      "Epoch 12/30\n",
      "5263/5263 [==============================] - 140s 27ms/step - loss: 1.0740 - accuracy: 0.5450 - val_loss: 1.1028 - val_accuracy: 0.5337\n",
      "Epoch 13/30\n",
      "5263/5263 [==============================] - 136s 26ms/step - loss: 1.0669 - accuracy: 0.5466 - val_loss: 1.1106 - val_accuracy: 0.5365\n",
      "Epoch 14/30\n",
      "5263/5263 [==============================] - 136s 26ms/step - loss: 1.0549 - accuracy: 0.5531 - val_loss: 1.1220 - val_accuracy: 0.5355\n",
      "Epoch 15/30\n",
      "5263/5263 [==============================] - 136s 26ms/step - loss: 1.0517 - accuracy: 0.5561 - val_loss: 1.1633 - val_accuracy: 0.5366\n"
     ]
    }
   ],
   "source": [
    "callbacks = [EarlyStopping(monitor='val_loss', patience=3),\n",
    "             ModelCheckpoint(filepath='best_model', monitor='val_loss', save_best_only=True, save_weights_only=True)]\n",
    "history = model.fit(train_dataset.shuffle(1000).batch(16), epochs=30, batch_size=16,\n",
    "          validation_data=val_dataset.shuffle(1000).batch(16), callbacks=callbacks)"
   ]
  },
  {
   "cell_type": "markdown",
   "id": "7c1f3f79-a84b-4072-a63a-3d5750308daf",
   "metadata": {},
   "source": [
    "Now, let's examing the results of the training. We create a dataframe of the training and validation accuracy per epoch. We see that both accuracies were increasing per epoch, but starting decreasing. It's possible that the accuracy would have increased further, but to save computational resources, we believe this result is sufficient, as a roughly 55% accuracy is much better than random guessing (20%). "
   ]
  },
  {
   "cell_type": "code",
   "execution_count": 28,
   "id": "89db83eb-88fb-441b-9a51-54f8ae7ef859",
   "metadata": {
    "ExecuteTime": {
     "end_time": "2024-11-16T23:21:07.595974800Z",
     "start_time": "2024-11-16T23:21:07.443169700Z"
    }
   },
   "outputs": [
    {
     "data": {
      "application/vnd.plotly.v1+json": {
       "config": {
        "plotlyServerURL": "https://plot.ly"
       },
       "data": [
        {
         "hovertemplate": "variable=accuracy<br>epoch=%{x}<br>value=%{y}<extra></extra>",
         "legendgroup": "accuracy",
         "line": {
          "color": "#636efa",
          "dash": "solid"
         },
         "marker": {
          "symbol": "circle"
         },
         "mode": "lines",
         "name": "accuracy",
         "orientation": "v",
         "showlegend": true,
         "type": "scatter",
         "x": [
          1,
          2,
          3,
          4,
          5,
          6,
          7,
          8,
          9,
          10,
          11,
          12,
          13,
          14,
          15
         ],
         "xaxis": "x",
         "y": [
          0.3479846119880676,
          0.3795159161090851,
          0.43778058886528015,
          0.4666516184806824,
          0.48697179555892944,
          0.49703094363212585,
          0.5093703269958496,
          0.5148927569389343,
          0.5234792232513428,
          0.528455376625061,
          0.5361036658287048,
          0.5450226664543152,
          0.5465784668922424,
          0.5530628561973572,
          0.5560794472694397
         ],
         "yaxis": "y"
        },
        {
         "hovertemplate": "variable=val_accuracy<br>epoch=%{x}<br>value=%{y}<extra></extra>",
         "legendgroup": "val_accuracy",
         "line": {
          "color": "#EF553B",
          "dash": "solid"
         },
         "marker": {
          "symbol": "circle"
         },
         "mode": "lines",
         "name": "val_accuracy",
         "orientation": "v",
         "showlegend": true,
         "type": "scatter",
         "x": [
          1,
          2,
          3,
          4,
          5,
          6,
          7,
          8,
          9,
          10,
          11,
          12,
          13,
          14,
          15
         ],
         "xaxis": "x",
         "y": [
          0.38040947914123535,
          0.42800816893577576,
          0.4462970793247223,
          0.47380173206329346,
          0.49555841088294983,
          0.5059142112731934,
          0.5105220675468445,
          0.5209253430366516,
          0.5251532196998596,
          0.5223029851913452,
          0.5327062606811523,
          0.5337038636207581,
          0.5364590883255005,
          0.5354614853858948,
          0.5365540981292725
         ],
         "yaxis": "y"
        }
       ],
       "layout": {
        "autosize": true,
        "legend": {
         "title": {
          "text": "variable"
         },
         "tracegroupgap": 0
        },
        "template": {
         "data": {
          "bar": [
           {
            "error_x": {
             "color": "#f2f5fa"
            },
            "error_y": {
             "color": "#f2f5fa"
            },
            "marker": {
             "line": {
              "color": "rgb(17,17,17)",
              "width": 0.5
             },
             "pattern": {
              "fillmode": "overlay",
              "size": 10,
              "solidity": 0.2
             }
            },
            "type": "bar"
           }
          ],
          "barpolar": [
           {
            "marker": {
             "line": {
              "color": "rgb(17,17,17)",
              "width": 0.5
             },
             "pattern": {
              "fillmode": "overlay",
              "size": 10,
              "solidity": 0.2
             }
            },
            "type": "barpolar"
           }
          ],
          "carpet": [
           {
            "aaxis": {
             "endlinecolor": "#A2B1C6",
             "gridcolor": "#506784",
             "linecolor": "#506784",
             "minorgridcolor": "#506784",
             "startlinecolor": "#A2B1C6"
            },
            "baxis": {
             "endlinecolor": "#A2B1C6",
             "gridcolor": "#506784",
             "linecolor": "#506784",
             "minorgridcolor": "#506784",
             "startlinecolor": "#A2B1C6"
            },
            "type": "carpet"
           }
          ],
          "choropleth": [
           {
            "colorbar": {
             "outlinewidth": 0,
             "ticks": ""
            },
            "type": "choropleth"
           }
          ],
          "contour": [
           {
            "colorbar": {
             "outlinewidth": 0,
             "ticks": ""
            },
            "colorscale": [
             [
              0,
              "#0d0887"
             ],
             [
              0.1111111111111111,
              "#46039f"
             ],
             [
              0.2222222222222222,
              "#7201a8"
             ],
             [
              0.3333333333333333,
              "#9c179e"
             ],
             [
              0.4444444444444444,
              "#bd3786"
             ],
             [
              0.5555555555555556,
              "#d8576b"
             ],
             [
              0.6666666666666666,
              "#ed7953"
             ],
             [
              0.7777777777777778,
              "#fb9f3a"
             ],
             [
              0.8888888888888888,
              "#fdca26"
             ],
             [
              1,
              "#f0f921"
             ]
            ],
            "type": "contour"
           }
          ],
          "contourcarpet": [
           {
            "colorbar": {
             "outlinewidth": 0,
             "ticks": ""
            },
            "type": "contourcarpet"
           }
          ],
          "heatmap": [
           {
            "colorbar": {
             "outlinewidth": 0,
             "ticks": ""
            },
            "colorscale": [
             [
              0,
              "#0d0887"
             ],
             [
              0.1111111111111111,
              "#46039f"
             ],
             [
              0.2222222222222222,
              "#7201a8"
             ],
             [
              0.3333333333333333,
              "#9c179e"
             ],
             [
              0.4444444444444444,
              "#bd3786"
             ],
             [
              0.5555555555555556,
              "#d8576b"
             ],
             [
              0.6666666666666666,
              "#ed7953"
             ],
             [
              0.7777777777777778,
              "#fb9f3a"
             ],
             [
              0.8888888888888888,
              "#fdca26"
             ],
             [
              1,
              "#f0f921"
             ]
            ],
            "type": "heatmap"
           }
          ],
          "heatmapgl": [
           {
            "colorbar": {
             "outlinewidth": 0,
             "ticks": ""
            },
            "colorscale": [
             [
              0,
              "#0d0887"
             ],
             [
              0.1111111111111111,
              "#46039f"
             ],
             [
              0.2222222222222222,
              "#7201a8"
             ],
             [
              0.3333333333333333,
              "#9c179e"
             ],
             [
              0.4444444444444444,
              "#bd3786"
             ],
             [
              0.5555555555555556,
              "#d8576b"
             ],
             [
              0.6666666666666666,
              "#ed7953"
             ],
             [
              0.7777777777777778,
              "#fb9f3a"
             ],
             [
              0.8888888888888888,
              "#fdca26"
             ],
             [
              1,
              "#f0f921"
             ]
            ],
            "type": "heatmapgl"
           }
          ],
          "histogram": [
           {
            "marker": {
             "pattern": {
              "fillmode": "overlay",
              "size": 10,
              "solidity": 0.2
             }
            },
            "type": "histogram"
           }
          ],
          "histogram2d": [
           {
            "colorbar": {
             "outlinewidth": 0,
             "ticks": ""
            },
            "colorscale": [
             [
              0,
              "#0d0887"
             ],
             [
              0.1111111111111111,
              "#46039f"
             ],
             [
              0.2222222222222222,
              "#7201a8"
             ],
             [
              0.3333333333333333,
              "#9c179e"
             ],
             [
              0.4444444444444444,
              "#bd3786"
             ],
             [
              0.5555555555555556,
              "#d8576b"
             ],
             [
              0.6666666666666666,
              "#ed7953"
             ],
             [
              0.7777777777777778,
              "#fb9f3a"
             ],
             [
              0.8888888888888888,
              "#fdca26"
             ],
             [
              1,
              "#f0f921"
             ]
            ],
            "type": "histogram2d"
           }
          ],
          "histogram2dcontour": [
           {
            "colorbar": {
             "outlinewidth": 0,
             "ticks": ""
            },
            "colorscale": [
             [
              0,
              "#0d0887"
             ],
             [
              0.1111111111111111,
              "#46039f"
             ],
             [
              0.2222222222222222,
              "#7201a8"
             ],
             [
              0.3333333333333333,
              "#9c179e"
             ],
             [
              0.4444444444444444,
              "#bd3786"
             ],
             [
              0.5555555555555556,
              "#d8576b"
             ],
             [
              0.6666666666666666,
              "#ed7953"
             ],
             [
              0.7777777777777778,
              "#fb9f3a"
             ],
             [
              0.8888888888888888,
              "#fdca26"
             ],
             [
              1,
              "#f0f921"
             ]
            ],
            "type": "histogram2dcontour"
           }
          ],
          "mesh3d": [
           {
            "colorbar": {
             "outlinewidth": 0,
             "ticks": ""
            },
            "type": "mesh3d"
           }
          ],
          "parcoords": [
           {
            "line": {
             "colorbar": {
              "outlinewidth": 0,
              "ticks": ""
             }
            },
            "type": "parcoords"
           }
          ],
          "pie": [
           {
            "automargin": true,
            "type": "pie"
           }
          ],
          "scatter": [
           {
            "marker": {
             "line": {
              "color": "#283442"
             }
            },
            "type": "scatter"
           }
          ],
          "scatter3d": [
           {
            "line": {
             "colorbar": {
              "outlinewidth": 0,
              "ticks": ""
             }
            },
            "marker": {
             "colorbar": {
              "outlinewidth": 0,
              "ticks": ""
             }
            },
            "type": "scatter3d"
           }
          ],
          "scattercarpet": [
           {
            "marker": {
             "colorbar": {
              "outlinewidth": 0,
              "ticks": ""
             }
            },
            "type": "scattercarpet"
           }
          ],
          "scattergeo": [
           {
            "marker": {
             "colorbar": {
              "outlinewidth": 0,
              "ticks": ""
             }
            },
            "type": "scattergeo"
           }
          ],
          "scattergl": [
           {
            "marker": {
             "line": {
              "color": "#283442"
             }
            },
            "type": "scattergl"
           }
          ],
          "scattermapbox": [
           {
            "marker": {
             "colorbar": {
              "outlinewidth": 0,
              "ticks": ""
             }
            },
            "type": "scattermapbox"
           }
          ],
          "scatterpolar": [
           {
            "marker": {
             "colorbar": {
              "outlinewidth": 0,
              "ticks": ""
             }
            },
            "type": "scatterpolar"
           }
          ],
          "scatterpolargl": [
           {
            "marker": {
             "colorbar": {
              "outlinewidth": 0,
              "ticks": ""
             }
            },
            "type": "scatterpolargl"
           }
          ],
          "scatterternary": [
           {
            "marker": {
             "colorbar": {
              "outlinewidth": 0,
              "ticks": ""
             }
            },
            "type": "scatterternary"
           }
          ],
          "surface": [
           {
            "colorbar": {
             "outlinewidth": 0,
             "ticks": ""
            },
            "colorscale": [
             [
              0,
              "#0d0887"
             ],
             [
              0.1111111111111111,
              "#46039f"
             ],
             [
              0.2222222222222222,
              "#7201a8"
             ],
             [
              0.3333333333333333,
              "#9c179e"
             ],
             [
              0.4444444444444444,
              "#bd3786"
             ],
             [
              0.5555555555555556,
              "#d8576b"
             ],
             [
              0.6666666666666666,
              "#ed7953"
             ],
             [
              0.7777777777777778,
              "#fb9f3a"
             ],
             [
              0.8888888888888888,
              "#fdca26"
             ],
             [
              1,
              "#f0f921"
             ]
            ],
            "type": "surface"
           }
          ],
          "table": [
           {
            "cells": {
             "fill": {
              "color": "#506784"
             },
             "line": {
              "color": "rgb(17,17,17)"
             }
            },
            "header": {
             "fill": {
              "color": "#2a3f5f"
             },
             "line": {
              "color": "rgb(17,17,17)"
             }
            },
            "type": "table"
           }
          ]
         },
         "layout": {
          "annotationdefaults": {
           "arrowcolor": "#f2f5fa",
           "arrowhead": 0,
           "arrowwidth": 1
          },
          "autotypenumbers": "strict",
          "coloraxis": {
           "colorbar": {
            "outlinewidth": 0,
            "ticks": ""
           }
          },
          "colorscale": {
           "diverging": [
            [
             0,
             "#8e0152"
            ],
            [
             0.1,
             "#c51b7d"
            ],
            [
             0.2,
             "#de77ae"
            ],
            [
             0.3,
             "#f1b6da"
            ],
            [
             0.4,
             "#fde0ef"
            ],
            [
             0.5,
             "#f7f7f7"
            ],
            [
             0.6,
             "#e6f5d0"
            ],
            [
             0.7,
             "#b8e186"
            ],
            [
             0.8,
             "#7fbc41"
            ],
            [
             0.9,
             "#4d9221"
            ],
            [
             1,
             "#276419"
            ]
           ],
           "sequential": [
            [
             0,
             "#0d0887"
            ],
            [
             0.1111111111111111,
             "#46039f"
            ],
            [
             0.2222222222222222,
             "#7201a8"
            ],
            [
             0.3333333333333333,
             "#9c179e"
            ],
            [
             0.4444444444444444,
             "#bd3786"
            ],
            [
             0.5555555555555556,
             "#d8576b"
            ],
            [
             0.6666666666666666,
             "#ed7953"
            ],
            [
             0.7777777777777778,
             "#fb9f3a"
            ],
            [
             0.8888888888888888,
             "#fdca26"
            ],
            [
             1,
             "#f0f921"
            ]
           ],
           "sequentialminus": [
            [
             0,
             "#0d0887"
            ],
            [
             0.1111111111111111,
             "#46039f"
            ],
            [
             0.2222222222222222,
             "#7201a8"
            ],
            [
             0.3333333333333333,
             "#9c179e"
            ],
            [
             0.4444444444444444,
             "#bd3786"
            ],
            [
             0.5555555555555556,
             "#d8576b"
            ],
            [
             0.6666666666666666,
             "#ed7953"
            ],
            [
             0.7777777777777778,
             "#fb9f3a"
            ],
            [
             0.8888888888888888,
             "#fdca26"
            ],
            [
             1,
             "#f0f921"
            ]
           ]
          },
          "colorway": [
           "#636efa",
           "#EF553B",
           "#00cc96",
           "#ab63fa",
           "#FFA15A",
           "#19d3f3",
           "#FF6692",
           "#B6E880",
           "#FF97FF",
           "#FECB52"
          ],
          "font": {
           "color": "#f2f5fa"
          },
          "geo": {
           "bgcolor": "rgb(17,17,17)",
           "lakecolor": "rgb(17,17,17)",
           "landcolor": "rgb(17,17,17)",
           "showlakes": true,
           "showland": true,
           "subunitcolor": "#506784"
          },
          "hoverlabel": {
           "align": "left"
          },
          "hovermode": "closest",
          "mapbox": {
           "style": "dark"
          },
          "paper_bgcolor": "rgb(17,17,17)",
          "plot_bgcolor": "rgb(17,17,17)",
          "polar": {
           "angularaxis": {
            "gridcolor": "#506784",
            "linecolor": "#506784",
            "ticks": ""
           },
           "bgcolor": "rgb(17,17,17)",
           "radialaxis": {
            "gridcolor": "#506784",
            "linecolor": "#506784",
            "ticks": ""
           }
          },
          "scene": {
           "xaxis": {
            "backgroundcolor": "rgb(17,17,17)",
            "gridcolor": "#506784",
            "gridwidth": 2,
            "linecolor": "#506784",
            "showbackground": true,
            "ticks": "",
            "zerolinecolor": "#C8D4E3"
           },
           "yaxis": {
            "backgroundcolor": "rgb(17,17,17)",
            "gridcolor": "#506784",
            "gridwidth": 2,
            "linecolor": "#506784",
            "showbackground": true,
            "ticks": "",
            "zerolinecolor": "#C8D4E3"
           },
           "zaxis": {
            "backgroundcolor": "rgb(17,17,17)",
            "gridcolor": "#506784",
            "gridwidth": 2,
            "linecolor": "#506784",
            "showbackground": true,
            "ticks": "",
            "zerolinecolor": "#C8D4E3"
           }
          },
          "shapedefaults": {
           "line": {
            "color": "#f2f5fa"
           }
          },
          "sliderdefaults": {
           "bgcolor": "#C8D4E3",
           "bordercolor": "rgb(17,17,17)",
           "borderwidth": 1,
           "tickwidth": 0
          },
          "ternary": {
           "aaxis": {
            "gridcolor": "#506784",
            "linecolor": "#506784",
            "ticks": ""
           },
           "baxis": {
            "gridcolor": "#506784",
            "linecolor": "#506784",
            "ticks": ""
           },
           "bgcolor": "rgb(17,17,17)",
           "caxis": {
            "gridcolor": "#506784",
            "linecolor": "#506784",
            "ticks": ""
           }
          },
          "title": {
           "x": 0.05
          },
          "updatemenudefaults": {
           "bgcolor": "#506784",
           "borderwidth": 0
          },
          "xaxis": {
           "automargin": true,
           "gridcolor": "#283442",
           "linecolor": "#506784",
           "ticks": "",
           "title": {
            "standoff": 15
           },
           "zerolinecolor": "#283442",
           "zerolinewidth": 2
          },
          "yaxis": {
           "automargin": true,
           "gridcolor": "#283442",
           "linecolor": "#506784",
           "ticks": "",
           "title": {
            "standoff": 15
           },
           "zerolinecolor": "#283442",
           "zerolinewidth": 2
          }
         }
        },
        "title": {
         "text": "Accuracy vs Epoch"
        },
        "xaxis": {
         "anchor": "y",
         "autorange": true,
         "domain": [
          0,
          1
         ],
         "range": [
          1,
          15
         ],
         "title": {
          "text": "epoch"
         },
         "type": "linear"
        },
        "yaxis": {
         "anchor": "x",
         "autorange": true,
         "domain": [
          0,
          1
         ],
         "range": [
          0.3364237878057692,
          0.5676402714517381
         ],
         "title": {
          "text": "value"
         },
         "type": "linear"
        }
       }
      },
      "image/png": "[encoded data removed]"
     },
     "metadata": {},
     "output_type": "display_data"
    }
   ],
   "source": [
    "# Make a dataframe of the training history\n",
    "dfr = pd.DataFrame(history.history)\n",
    "\n",
    "# Fix the epoch index\n",
    "dfr['epoch'] = dfr.index + 1\n",
    "\n",
    "# Make a line plot of accuracy and val accuracy per epoch\n",
    "fig = px.line(dfr, x='epoch', y=['accuracy', 'val_accuracy'], title='Accuracy vs Epoch')\n",
    "fig.show('plotly_mimetype')\n",
    "fig.write_image('accuracy.png')"
   ]
  },
  {
   "cell_type": "markdown",
   "id": "f1d52973-828f-4070-b259-d77ca0a8fdb0",
   "metadata": {},
   "source": [
    "We do the same as above for loss, and we see a good decreasing loss per epoch."
   ]
  },
  {
   "cell_type": "code",
   "execution_count": 29,
   "id": "22795acb3f5c9f85",
   "metadata": {
    "ExecuteTime": {
     "end_time": "2024-11-16T23:21:07.688977Z",
     "start_time": "2024-11-16T23:21:07.602974700Z"
    },
    "collapsed": false,
    "jupyter": {
     "outputs_hidden": false
    }
   },
   "outputs": [
    {
     "data": {
      "application/vnd.plotly.v1+json": {
       "config": {
        "plotlyServerURL": "https://plot.ly"
       },
       "data": [
        {
         "hovertemplate": "variable=loss<br>epoch=%{x}<br>value=%{y}<extra></extra>",
         "legendgroup": "loss",
         "line": {
          "color": "#636efa",
          "dash": "solid"
         },
         "marker": {
          "symbol": "circle"
         },
         "mode": "lines",
         "name": "loss",
         "orientation": "v",
         "showlegend": true,
         "type": "scatter",
         "x": [
          1,
          2,
          3,
          4,
          5,
          6,
          7,
          8,
          9,
          10,
          11,
          12,
          13,
          14,
          15
         ],
         "xaxis": "x",
         "y": [
          2.128969669342041,
          1.4066354036331177,
          1.309667944908142,
          1.251766562461853,
          1.2095308303833008,
          1.1668788194656372,
          1.1415950059890747,
          1.1341019868850708,
          1.114719033241272,
          1.0976693630218506,
          1.0815659761428833,
          1.0740221738815308,
          1.0669362545013428,
          1.0549366474151611,
          1.051654577255249
         ],
         "yaxis": "y"
        },
        {
         "hovertemplate": "variable=val_loss<br>epoch=%{x}<br>value=%{y}<extra></extra>",
         "legendgroup": "val_loss",
         "line": {
          "color": "#EF553B",
          "dash": "solid"
         },
         "marker": {
          "symbol": "circle"
         },
         "mode": "lines",
         "name": "val_loss",
         "orientation": "v",
         "showlegend": true,
         "type": "scatter",
         "x": [
          1,
          2,
          3,
          4,
          5,
          6,
          7,
          8,
          9,
          10,
          11,
          12,
          13,
          14,
          15
         ],
         "xaxis": "x",
         "y": [
          1.4230706691741943,
          1.3108347654342651,
          1.2678520679473877,
          1.2054458856582642,
          1.1743378639221191,
          1.1411292552947998,
          1.1324021816253662,
          1.1083277463912964,
          1.1046159267425537,
          1.119317889213562,
          1.1169968843460083,
          1.1027815341949463,
          1.1106456518173218,
          1.1220449209213257,
          1.1633086204528809
         ],
         "yaxis": "y"
        }
       ],
       "layout": {
        "autosize": true,
        "legend": {
         "title": {
          "text": "variable"
         },
         "tracegroupgap": 0
        },
        "template": {
         "data": {
          "bar": [
           {
            "error_x": {
             "color": "#f2f5fa"
            },
            "error_y": {
             "color": "#f2f5fa"
            },
            "marker": {
             "line": {
              "color": "rgb(17,17,17)",
              "width": 0.5
             },
             "pattern": {
              "fillmode": "overlay",
              "size": 10,
              "solidity": 0.2
             }
            },
            "type": "bar"
           }
          ],
          "barpolar": [
           {
            "marker": {
             "line": {
              "color": "rgb(17,17,17)",
              "width": 0.5
             },
             "pattern": {
              "fillmode": "overlay",
              "size": 10,
              "solidity": 0.2
             }
            },
            "type": "barpolar"
           }
          ],
          "carpet": [
           {
            "aaxis": {
             "endlinecolor": "#A2B1C6",
             "gridcolor": "#506784",
             "linecolor": "#506784",
             "minorgridcolor": "#506784",
             "startlinecolor": "#A2B1C6"
            },
            "baxis": {
             "endlinecolor": "#A2B1C6",
             "gridcolor": "#506784",
             "linecolor": "#506784",
             "minorgridcolor": "#506784",
             "startlinecolor": "#A2B1C6"
            },
            "type": "carpet"
           }
          ],
          "choropleth": [
           {
            "colorbar": {
             "outlinewidth": 0,
             "ticks": ""
            },
            "type": "choropleth"
           }
          ],
          "contour": [
           {
            "colorbar": {
             "outlinewidth": 0,
             "ticks": ""
            },
            "colorscale": [
             [
              0,
              "#0d0887"
             ],
             [
              0.1111111111111111,
              "#46039f"
             ],
             [
              0.2222222222222222,
              "#7201a8"
             ],
             [
              0.3333333333333333,
              "#9c179e"
             ],
             [
              0.4444444444444444,
              "#bd3786"
             ],
             [
              0.5555555555555556,
              "#d8576b"
             ],
             [
              0.6666666666666666,
              "#ed7953"
             ],
             [
              0.7777777777777778,
              "#fb9f3a"
             ],
             [
              0.8888888888888888,
              "#fdca26"
             ],
             [
              1,
              "#f0f921"
             ]
            ],
            "type": "contour"
           }
          ],
          "contourcarpet": [
           {
            "colorbar": {
             "outlinewidth": 0,
             "ticks": ""
            },
            "type": "contourcarpet"
           }
          ],
          "heatmap": [
           {
            "colorbar": {
             "outlinewidth": 0,
             "ticks": ""
            },
            "colorscale": [
             [
              0,
              "#0d0887"
             ],
             [
              0.1111111111111111,
              "#46039f"
             ],
             [
              0.2222222222222222,
              "#7201a8"
             ],
             [
              0.3333333333333333,
              "#9c179e"
             ],
             [
              0.4444444444444444,
              "#bd3786"
             ],
             [
              0.5555555555555556,
              "#d8576b"
             ],
             [
              0.6666666666666666,
              "#ed7953"
             ],
             [
              0.7777777777777778,
              "#fb9f3a"
             ],
             [
              0.8888888888888888,
              "#fdca26"
             ],
             [
              1,
              "#f0f921"
             ]
            ],
            "type": "heatmap"
           }
          ],
          "heatmapgl": [
           {
            "colorbar": {
             "outlinewidth": 0,
             "ticks": ""
            },
            "colorscale": [
             [
              0,
              "#0d0887"
             ],
             [
              0.1111111111111111,
              "#46039f"
             ],
             [
              0.2222222222222222,
              "#7201a8"
             ],
             [
              0.3333333333333333,
              "#9c179e"
             ],
             [
              0.4444444444444444,
              "#bd3786"
             ],
             [
              0.5555555555555556,
              "#d8576b"
             ],
             [
              0.6666666666666666,
              "#ed7953"
             ],
             [
              0.7777777777777778,
              "#fb9f3a"
             ],
             [
              0.8888888888888888,
              "#fdca26"
             ],
             [
              1,
              "#f0f921"
             ]
            ],
            "type": "heatmapgl"
           }
          ],
          "histogram": [
           {
            "marker": {
             "pattern": {
              "fillmode": "overlay",
              "size": 10,
              "solidity": 0.2
             }
            },
            "type": "histogram"
           }
          ],
          "histogram2d": [
           {
            "colorbar": {
             "outlinewidth": 0,
             "ticks": ""
            },
            "colorscale": [
             [
              0,
              "#0d0887"
             ],
             [
              0.1111111111111111,
              "#46039f"
             ],
             [
              0.2222222222222222,
              "#7201a8"
             ],
             [
              0.3333333333333333,
              "#9c179e"
             ],
             [
              0.4444444444444444,
              "#bd3786"
             ],
             [
              0.5555555555555556,
              "#d8576b"
             ],
             [
              0.6666666666666666,
              "#ed7953"
             ],
             [
              0.7777777777777778,
              "#fb9f3a"
             ],
             [
              0.8888888888888888,
              "#fdca26"
             ],
             [
              1,
              "#f0f921"
             ]
            ],
            "type": "histogram2d"
           }
          ],
          "histogram2dcontour": [
           {
            "colorbar": {
             "outlinewidth": 0,
             "ticks": ""
            },
            "colorscale": [
             [
              0,
              "#0d0887"
             ],
             [
              0.1111111111111111,
              "#46039f"
             ],
             [
              0.2222222222222222,
              "#7201a8"
             ],
             [
              0.3333333333333333,
              "#9c179e"
             ],
             [
              0.4444444444444444,
              "#bd3786"
             ],
             [
              0.5555555555555556,
              "#d8576b"
             ],
             [
              0.6666666666666666,
              "#ed7953"
             ],
             [
              0.7777777777777778,
              "#fb9f3a"
             ],
             [
              0.8888888888888888,
              "#fdca26"
             ],
             [
              1,
              "#f0f921"
             ]
            ],
            "type": "histogram2dcontour"
           }
          ],
          "mesh3d": [
           {
            "colorbar": {
             "outlinewidth": 0,
             "ticks": ""
            },
            "type": "mesh3d"
           }
          ],
          "parcoords": [
           {
            "line": {
             "colorbar": {
              "outlinewidth": 0,
              "ticks": ""
             }
            },
            "type": "parcoords"
           }
          ],
          "pie": [
           {
            "automargin": true,
            "type": "pie"
           }
          ],
          "scatter": [
           {
            "marker": {
             "line": {
              "color": "#283442"
             }
            },
            "type": "scatter"
           }
          ],
          "scatter3d": [
           {
            "line": {
             "colorbar": {
              "outlinewidth": 0,
              "ticks": ""
             }
            },
            "marker": {
             "colorbar": {
              "outlinewidth": 0,
              "ticks": ""
             }
            },
            "type": "scatter3d"
           }
          ],
          "scattercarpet": [
           {
            "marker": {
             "colorbar": {
              "outlinewidth": 0,
              "ticks": ""
             }
            },
            "type": "scattercarpet"
           }
          ],
          "scattergeo": [
           {
            "marker": {
             "colorbar": {
              "outlinewidth": 0,
              "ticks": ""
             }
            },
            "type": "scattergeo"
           }
          ],
          "scattergl": [
           {
            "marker": {
             "line": {
              "color": "#283442"
             }
            },
            "type": "scattergl"
           }
          ],
          "scattermapbox": [
           {
            "marker": {
             "colorbar": {
              "outlinewidth": 0,
              "ticks": ""
             }
            },
            "type": "scattermapbox"
           }
          ],
          "scatterpolar": [
           {
            "marker": {
             "colorbar": {
              "outlinewidth": 0,
              "ticks": ""
             }
            },
            "type": "scatterpolar"
           }
          ],
          "scatterpolargl": [
           {
            "marker": {
             "colorbar": {
              "outlinewidth": 0,
              "ticks": ""
             }
            },
            "type": "scatterpolargl"
           }
          ],
          "scatterternary": [
           {
            "marker": {
             "colorbar": {
              "outlinewidth": 0,
              "ticks": ""
             }
            },
            "type": "scatterternary"
           }
          ],
          "surface": [
           {
            "colorbar": {
             "outlinewidth": 0,
             "ticks": ""
            },
            "colorscale": [
             [
              0,
              "#0d0887"
             ],
             [
              0.1111111111111111,
              "#46039f"
             ],
             [
              0.2222222222222222,
              "#7201a8"
             ],
             [
              0.3333333333333333,
              "#9c179e"
             ],
             [
              0.4444444444444444,
              "#bd3786"
             ],
             [
              0.5555555555555556,
              "#d8576b"
             ],
             [
              0.6666666666666666,
              "#ed7953"
             ],
             [
              0.7777777777777778,
              "#fb9f3a"
             ],
             [
              0.8888888888888888,
              "#fdca26"
             ],
             [
              1,
              "#f0f921"
             ]
            ],
            "type": "surface"
           }
          ],
          "table": [
           {
            "cells": {
             "fill": {
              "color": "#506784"
             },
             "line": {
              "color": "rgb(17,17,17)"
             }
            },
            "header": {
             "fill": {
              "color": "#2a3f5f"
             },
             "line": {
              "color": "rgb(17,17,17)"
             }
            },
            "type": "table"
           }
          ]
         },
         "layout": {
          "annotationdefaults": {
           "arrowcolor": "#f2f5fa",
           "arrowhead": 0,
           "arrowwidth": 1
          },
          "autotypenumbers": "strict",
          "coloraxis": {
           "colorbar": {
            "outlinewidth": 0,
            "ticks": ""
           }
          },
          "colorscale": {
           "diverging": [
            [
             0,
             "#8e0152"
            ],
            [
             0.1,
             "#c51b7d"
            ],
            [
             0.2,
             "#de77ae"
            ],
            [
             0.3,
             "#f1b6da"
            ],
            [
             0.4,
             "#fde0ef"
            ],
            [
             0.5,
             "#f7f7f7"
            ],
            [
             0.6,
             "#e6f5d0"
            ],
            [
             0.7,
             "#b8e186"
            ],
            [
             0.8,
             "#7fbc41"
            ],
            [
             0.9,
             "#4d9221"
            ],
            [
             1,
             "#276419"
            ]
           ],
           "sequential": [
            [
             0,
             "#0d0887"
            ],
            [
             0.1111111111111111,
             "#46039f"
            ],
            [
             0.2222222222222222,
             "#7201a8"
            ],
            [
             0.3333333333333333,
             "#9c179e"
            ],
            [
             0.4444444444444444,
             "#bd3786"
            ],
            [
             0.5555555555555556,
             "#d8576b"
            ],
            [
             0.6666666666666666,
             "#ed7953"
            ],
            [
             0.7777777777777778,
             "#fb9f3a"
            ],
            [
             0.8888888888888888,
             "#fdca26"
            ],
            [
             1,
             "#f0f921"
            ]
           ],
           "sequentialminus": [
            [
             0,
             "#0d0887"
            ],
            [
             0.1111111111111111,
             "#46039f"
            ],
            [
             0.2222222222222222,
             "#7201a8"
            ],
            [
             0.3333333333333333,
             "#9c179e"
            ],
            [
             0.4444444444444444,
             "#bd3786"
            ],
            [
             0.5555555555555556,
             "#d8576b"
            ],
            [
             0.6666666666666666,
             "#ed7953"
            ],
            [
             0.7777777777777778,
             "#fb9f3a"
            ],
            [
             0.8888888888888888,
             "#fdca26"
            ],
            [
             1,
             "#f0f921"
            ]
           ]
          },
          "colorway": [
           "#636efa",
           "#EF553B",
           "#00cc96",
           "#ab63fa",
           "#FFA15A",
           "#19d3f3",
           "#FF6692",
           "#B6E880",
           "#FF97FF",
           "#FECB52"
          ],
          "font": {
           "color": "#f2f5fa"
          },
          "geo": {
           "bgcolor": "rgb(17,17,17)",
           "lakecolor": "rgb(17,17,17)",
           "landcolor": "rgb(17,17,17)",
           "showlakes": true,
           "showland": true,
           "subunitcolor": "#506784"
          },
          "hoverlabel": {
           "align": "left"
          },
          "hovermode": "closest",
          "mapbox": {
           "style": "dark"
          },
          "paper_bgcolor": "rgb(17,17,17)",
          "plot_bgcolor": "rgb(17,17,17)",
          "polar": {
           "angularaxis": {
            "gridcolor": "#506784",
            "linecolor": "#506784",
            "ticks": ""
           },
           "bgcolor": "rgb(17,17,17)",
           "radialaxis": {
            "gridcolor": "#506784",
            "linecolor": "#506784",
            "ticks": ""
           }
          },
          "scene": {
           "xaxis": {
            "backgroundcolor": "rgb(17,17,17)",
            "gridcolor": "#506784",
            "gridwidth": 2,
            "linecolor": "#506784",
            "showbackground": true,
            "ticks": "",
            "zerolinecolor": "#C8D4E3"
           },
           "yaxis": {
            "backgroundcolor": "rgb(17,17,17)",
            "gridcolor": "#506784",
            "gridwidth": 2,
            "linecolor": "#506784",
            "showbackground": true,
            "ticks": "",
            "zerolinecolor": "#C8D4E3"
           },
           "zaxis": {
            "backgroundcolor": "rgb(17,17,17)",
            "gridcolor": "#506784",
            "gridwidth": 2,
            "linecolor": "#506784",
            "showbackground": true,
            "ticks": "",
            "zerolinecolor": "#C8D4E3"
           }
          },
          "shapedefaults": {
           "line": {
            "color": "#f2f5fa"
           }
          },
          "sliderdefaults": {
           "bgcolor": "#C8D4E3",
           "bordercolor": "rgb(17,17,17)",
           "borderwidth": 1,
           "tickwidth": 0
          },
          "ternary": {
           "aaxis": {
            "gridcolor": "#506784",
            "linecolor": "#506784",
            "ticks": ""
           },
           "baxis": {
            "gridcolor": "#506784",
            "linecolor": "#506784",
            "ticks": ""
           },
           "bgcolor": "rgb(17,17,17)",
           "caxis": {
            "gridcolor": "#506784",
            "linecolor": "#506784",
            "ticks": ""
           }
          },
          "title": {
           "x": 0.05
          },
          "updatemenudefaults": {
           "bgcolor": "#506784",
           "borderwidth": 0
          },
          "xaxis": {
           "automargin": true,
           "gridcolor": "#283442",
           "linecolor": "#506784",
           "ticks": "",
           "title": {
            "standoff": 15
           },
           "zerolinecolor": "#283442",
           "zerolinewidth": 2
          },
          "yaxis": {
           "automargin": true,
           "gridcolor": "#283442",
           "linecolor": "#506784",
           "ticks": "",
           "title": {
            "standoff": 15
           },
           "zerolinecolor": "#283442",
           "zerolinewidth": 2
          }
         }
        },
        "title": {
         "text": "Loss vs Epoch"
        },
        "xaxis": {
         "anchor": "y",
         "autorange": true,
         "domain": [
          0,
          1
         ],
         "range": [
          1,
          15
         ],
         "title": {
          "text": "epoch"
         },
         "type": "linear"
        },
        "yaxis": {
         "anchor": "x",
         "autorange": true,
         "domain": [
          0,
          1
         ],
         "range": [
          0.9918037388059828,
          2.1888205077913074
         ],
         "title": {
          "text": "value"
         },
         "type": "linear"
        }
       }
      },
      "image/png": "[encoded data removed]"
     },
     "metadata": {},
     "output_type": "display_data"
    }
   ],
   "source": [
    "fig = px.line(dfr, x='epoch', y=['loss','val_loss'], title='Loss vs Epoch')\n",
    "fig.show('plotly_mimetype')\n",
    "fig.write_image('loss.png')"
   ]
  },
  {
   "cell_type": "markdown",
   "id": "ec24ca6a-76f5-4dac-830f-a724af02f957",
   "metadata": {},
   "source": [
    "We now evaluate the best model on the test set. Since we only saved the best model's weights, we need to recompile a pretrained model and then load the weights."
   ]
  },
  {
   "cell_type": "code",
   "execution_count": 32,
   "id": "df3ecd56-9b30-4466-84a9-06902f4ba4d3",
   "metadata": {
    "ExecuteTime": {
     "end_time": "2024-11-16T23:23:40.313081200Z",
     "start_time": "2024-11-16T23:23:00.929081900Z"
    }
   },
   "outputs": [
    {
     "name": "stderr",
     "output_type": "stream",
     "text": [
      "C:\\Users\\nghug\\anaconda3\\envs\\fp2\\lib\\site-packages\\huggingface_hub\\file_download.py:797: FutureWarning:\n",
      "\n",
      "`resume_download` is deprecated and will be removed in version 1.0.0. Downloads always resume when possible. If you want to force a new download, use `force_download=True`.\n",
      "\n",
      "C:\\Users\\nghug\\anaconda3\\envs\\fp2\\lib\\site-packages\\transformers\\modeling_tf_pytorch_utils.py:129: FutureWarning:\n",
      "\n",
      "You are using `torch.load` with `weights_only=False` (the current default value), which uses the default pickle module implicitly. It is possible to construct malicious pickle data which will execute arbitrary code during unpickling (See https://github.com/pytorch/pytorch/blob/main/SECURITY.md#untrusted-models for more details). In a future release, the default value for `weights_only` will be flipped to `True`. This limits the functions that could be executed during unpickling. Arbitrary objects will no longer be allowed to be loaded via this mode unless they are explicitly allowlisted by the user via `torch.serialization.add_safe_globals`. We recommend you start setting `weights_only=True` for any use case where you don't have full control of the loaded file. Please open an issue on GitHub for any issues related to this experimental feature.\n",
      "\n",
      "Some weights of the PyTorch model were not used when initializing the TF 2.0 model TFBertForSequenceClassification: ['bert.embeddings.position_ids']\n",
      "- This IS expected if you are initializing TFBertForSequenceClassification from a PyTorch model trained on another task or with another architecture (e.g. initializing a TFBertForSequenceClassification model from a BertForPreTraining model).\n",
      "- This IS NOT expected if you are initializing TFBertForSequenceClassification from a PyTorch model that you expect to be exactly identical (e.g. initializing a TFBertForSequenceClassification model from a BertForSequenceClassification model).\n",
      "Some weights or buffers of the TF 2.0 model TFBertForSequenceClassification were not initialized from the PyTorch model and are newly initialized: ['classifier.weight', 'classifier.bias']\n",
      "You should probably TRAIN this model on a down-stream task to be able to use it for predictions and inference.\n"
     ]
    },
    {
     "name": "stdout",
     "output_type": "stream",
     "text": [
      "1645/1645 [==============================] - 33s 18ms/step - loss: 1.0831 - accuracy: 0.5310\n"
     ]
    }
   ],
   "source": [
    "# Fetch the model and compile it, like earlier\n",
    "best_model = TFAutoModelForSequenceClassification.from_pretrained(\"prajjwal1/bert-tiny\", num_labels=6, from_pt=True)\n",
    "best_model.compile(optimizer=optimizer, loss='sparse_categorical_crossentropy', metrics=['accuracy'])\n",
    "\n",
    "# Load the best model weights\n",
    "best_model.load_weights('best_model')\n",
    "\n",
    "# Evaluate the test dataset\n",
    "evals = best_model.evaluate(test_dataset.batch(16))"
   ]
  },
  {
   "cell_type": "markdown",
   "id": "f670eda5-6270-40cc-877b-cedcee7d8960",
   "metadata": {},
   "source": [
    "We retain a good validation accuracy of 53%, close to the training accuracy. Since the book id's were group shuffled, the trained model has not done any sentiment analysis on any of these books nor their respective reviews. This close accuracy indicates we did a good job at making a generalized model. We know look at the confusion matrix of the dataset to see how the model performed more closely."
   ]
  },
  {
   "cell_type": "code",
   "execution_count": 37,
   "id": "67fd3b8d34dc109f",
   "metadata": {
    "ExecuteTime": {
     "end_time": "2024-11-16T23:31:03.328579500Z",
     "start_time": "2024-11-16T23:30:47.363580500Z"
    },
    "collapsed": false,
    "jupyter": {
     "outputs_hidden": false
    }
   },
   "outputs": [
    {
     "name": "stdout",
     "output_type": "stream",
     "text": [
      "1645/1645 [==============================] - 15s 9ms/step\n"
     ]
    },
    {
     "data": {
      "image/png": "[encoded data removed]",
      "text/plain": [
       "<Figure size 640x480 with 2 Axes>"
      ]
     },
     "metadata": {},
     "output_type": "display_data"
    }
   ],
   "source": [
    "from sklearn import metrics\n",
    "\n",
    "y_pred = best_model.predict(test_dataset.batch(16)) # Predict the rating values on the test dataset\n",
    "y_pred = tf.nn.softmax(y_pred.logits) # Apply softmax to the logits of the prediction\n",
    "y_pred = tf.argmax(y_pred, axis=1) # Take the argument maximum, which leads to the predicted rating\n",
    "\n",
    "# Create a confusion matrix of the true test ratings and the predicted ones\n",
    "confusion_matrix = metrics.confusion_matrix(y_test, y_pred)\n",
    "\n",
    "# Displays the confusion matrix nicely\n",
    "confusion_matrix_display = metrics.ConfusionMatrixDisplay(confusion_matrix=confusion_matrix, display_labels=[1, 2, 3, 4, 5])\n",
    "\n",
    "confusion_matrix_display.plot()\n",
    "plt.savefig('confusion_matrix.png')\n",
    "plt.show()"
   ]
  },
  {
   "cell_type": "markdown",
   "id": "b3e63209-3b94-492e-ba73-b7483fb72126",
   "metadata": {},
   "source": [
    "From this, we can see that the predicted label seems to \"float\" around the true label, meaning that the model rarely predicts an opposite sentiment. We can see that only one 5 rating was predicted as a 1 rating, and only 83 1 ratings were predicted as 5 ratings. "
   ]
  },
  {
   "cell_type": "markdown",
   "id": "1a5503db-aa33-41c6-927d-712d7f793b72",
   "metadata": {},
   "source": [
    "### Hybrid Collaborative Filtering\n",
    "\n",
    "We now move on to hybrid collaborative filtering. We inspect the original full dataframe once again."
   ]
  },
  {
   "cell_type": "code",
   "execution_count": 15,
   "id": "18c094e3-5b12-4971-8f51-d3e11f24f99b",
   "metadata": {
    "ExecuteTime": {
     "start_time": "2024-11-16T22:45:11.101019600Z"
    }
   },
   "outputs": [
    {
     "name": "stdout",
     "output_type": "stream",
     "text": [
      "                            user_id   book_id  \\\n",
      "0  8842281e1d1347389f2ab93d60773d4d  18245960   \n",
      "1  8842281e1d1347389f2ab93d60773d4d     16981   \n",
      "2  8842281e1d1347389f2ab93d60773d4d  28684704   \n",
      "4  8842281e1d1347389f2ab93d60773d4d  25884323   \n",
      "5  8842281e1d1347389f2ab93d60773d4d  19398490   \n",
      "\n",
      "                          review_id  rating  \\\n",
      "0  dfdbb7b0eb5a7e4c26d59a937e2e5feb       5   \n",
      "1  a5d2c3628987712d0e05c4f90798eb67       3   \n",
      "2  2ede853b14dc4583f96cf5d120af636f       3   \n",
      "4  332732725863131279a8e345b63ac33e       4   \n",
      "5  ea4a220b10e6b5c796dae0e3b970aff1       4   \n",
      "\n",
      "                                         review_text  \\\n",
      "0  this is a special book. it started slow for ab...   \n",
      "1  recommended by don katz. avail for free in dec...   \n",
      "2  a fun, fast paced science fiction thriller. i ...   \n",
      "4  i really enjoyed this book, and there is a lot...   \n",
      "5  a beautiful story. it is rare to encounter a b...   \n",
      "\n",
      "                       date_added                    date_updated  \\\n",
      "0  Sun Jul 30 07:44:10 -0700 2017  Wed Aug 30 00:00:26 -0700 2017   \n",
      "1  Mon Dec 05 10:46:44 -0800 2016  Wed Mar 22 11:37:04 -0700 2017   \n",
      "2  Tue Nov 15 11:29:22 -0800 2016  Mon Mar 20 23:40:27 -0700 2017   \n",
      "4  Mon Apr 25 09:31:23 -0700 2016  Mon Apr 25 09:31:23 -0700 2016   \n",
      "5  Sun Jan 03 21:20:46 -0800 2016  Tue Sep 20 23:30:15 -0700 2016   \n",
      "\n",
      "                          read_at                      started_at  n_votes  \\\n",
      "0  Sat Aug 26 12:05:52 -0700 2017  Tue Aug 15 13:23:18 -0700 2017       28   \n",
      "1                                                                        1   \n",
      "2  Sat Mar 18 23:22:42 -0700 2017  Fri Mar 17 23:45:40 -0700 2017       22   \n",
      "4  Sun Jun 26 00:00:00 -0700 2016  Sat May 28 00:00:00 -0700 2016        9   \n",
      "5  Tue Sep 13 11:51:51 -0700 2016  Sat Aug 20 07:03:03 -0700 2016       35   \n",
      "\n",
      "   n_comments  \n",
      "0           1  \n",
      "1           0  \n",
      "2           0  \n",
      "4           1  \n",
      "5           5  \n"
     ]
    }
   ],
   "source": [
    "print(df_full.head(5))"
   ]
  },
  {
   "cell_type": "markdown",
   "id": "f9c83ff8-73a6-4e03-b18e-bdb324dd3c13",
   "metadata": {},
   "source": [
    "For collaborative filtering, we only care about the user ids, the book ids, and the rating values. We drop all other frames and save that to a new dataframe instance. This gives us 18,865 unique users over 25,469 unique books."
   ]
  },
  {
   "cell_type": "code",
   "execution_count": 16,
   "id": "899e0e4e-bedf-46b6-88df-564590471019",
   "metadata": {
    "ExecuteTime": {
     "start_time": "2024-11-16T22:45:11.102020Z"
    }
   },
   "outputs": [
    {
     "name": "stdout",
     "output_type": "stream",
     "text": [
      "                            user_id   book_id  rating\n",
      "0  8842281e1d1347389f2ab93d60773d4d  18245960       5\n",
      "1  8842281e1d1347389f2ab93d60773d4d     16981       3\n",
      "2  8842281e1d1347389f2ab93d60773d4d  28684704       3\n",
      "4  8842281e1d1347389f2ab93d60773d4d  25884323       4\n",
      "5  8842281e1d1347389f2ab93d60773d4d  19398490       4\n"
     ]
    }
   ],
   "source": [
    "df_cf = df_full.drop(['review_id', 'date_added', 'date_updated', 'read_at', 'started_at', 'n_votes', 'n_comments', 'review_text'], axis=1)\n",
    "print(df_cf.head(5))"
   ]
  },
  {
   "cell_type": "code",
   "execution_count": 17,
   "id": "fabc03f7-224b-46c9-815f-b7be146afb7e",
   "metadata": {},
   "outputs": [
    {
     "name": "stdout",
     "output_type": "stream",
     "text": [
      "18865\n",
      "25469\n"
     ]
    }
   ],
   "source": [
    "print(len(df_cf.user_id.unique()))\n",
    "print(len(df_cf.book_id.unique()))"
   ]
  },
  {
   "cell_type": "markdown",
   "id": "8bb1339f-735b-41d7-918b-6f93bdfab7ee",
   "metadata": {},
   "source": [
    "We now pivot the dataframe to make a matrix-like object, where one axis has the user id value, the other has the book id value, and the values inside are the rating values from the dataframe. We fill values of 0 where the user has not rating a book in the matrix. We then use Scipy to make a CSR matrix of the matrix, which is a structure used to efficiently represent sparse matrices (matrices where most values are 0). "
   ]
  },
  {
   "cell_type": "code",
   "execution_count": 139,
   "id": "4433ada8-e6b8-4de6-9989-c4637f77d2dc",
   "metadata": {
    "ExecuteTime": {
     "end_time": "2024-11-16T22:45:11.105519200Z",
     "start_time": "2024-11-16T22:45:11.103519400Z"
    }
   },
   "outputs": [],
   "source": [
    "# Make the matrix using a dataframe pivot\n",
    "matx = df_cf.pivot(index='user_id', columns='book_id', values='rating').fillna(0)\n",
    "\n",
    "# Make the sparse matrix (CSR matrix)\n",
    "matx_sparse = csr_matrix(matx)"
   ]
  },
  {
   "cell_type": "markdown",
   "id": "3e011001-02c5-4cbc-a621-d5c90267ba7d",
   "metadata": {},
   "source": [
    "Even though most of the values are 0, we still have a lot of filled values. We can loosely visualize this by making a scatter of all the different ratings contained in the matrix. On one axis we have the user id (as an index, not the true id), and likewise for book ids on the other axis."
   ]
  },
  {
   "cell_type": "code",
   "execution_count": 140,
   "id": "2ec73bb6-0ac7-4c76-8381-b56e129fb6ec",
   "metadata": {
    "ExecuteTime": {
     "start_time": "2024-11-16T22:45:11.104521300Z"
    }
   },
   "outputs": [
    {
     "data": {
      "image/png": "[encoded data removed]",
      "text/plain": [
       "<Figure size 640x480 with 2 Axes>"
      ]
     },
     "metadata": {},
     "output_type": "display_data"
    }
   ],
   "source": [
    "# Make a dictionary of the matrix and extract the keys and values\n",
    "mx_dict = matx_sparse.todok()\n",
    "xy = np.array(list(mx_dict.keys()))\n",
    "vals = np.array(list(mx_dict.values()))\n",
    "\n",
    "# We scatter the non-zero values of the matrix\n",
    "plt.scatter(xy[:,0], xy[:,1], s=0.01, c=vals, cmap='inferno')\n",
    "plt.colorbar()\n",
    "plt.xlabel('User ID (as index)')\n",
    "plt.ylabel('Book ID (as index)')\n",
    "#plt.savefig('matrix.png')\n",
    "plt.show()"
   ]
  },
  {
   "cell_type": "code",
   "execution_count": 142,
   "id": "6bb27143-9710-4340-82ba-0173e429a170",
   "metadata": {},
   "outputs": [
    {
     "name": "stdout",
     "output_type": "stream",
     "text": [
      "Index([       1,        2,        3,        5,        6,       11,       33,\n",
      "             34,       59,      104,\n",
      "       ...\n",
      "       36103768, 36107506, 36114743, 36123887, 36135327, 36158863, 36196052,\n",
      "       36242916, 36252773, 36328685],\n",
      "      dtype='int64', name='book_id', length=25469)\n"
     ]
    }
   ],
   "source": [
    "original_column_names = matx.columns.get_level_values(0)\n",
    "print(original_column_names)"
   ]
  },
  {
   "cell_type": "code",
   "execution_count": 143,
   "id": "95cc5033-8938-4201-b0be-d64f217385d9",
   "metadata": {},
   "outputs": [
    {
     "data": {
      "text/plain": [
       "3526"
      ]
     },
     "execution_count": 143,
     "metadata": {},
     "output_type": "execute_result"
    }
   ],
   "source": [
    "original_column_names.tolist()[130]"
   ]
  },
  {
   "cell_type": "markdown",
   "id": "f6df780e-5b76-4176-8e56-05b8b87f4eea",
   "metadata": {},
   "source": [
    "For the first part of collaborative filtering, we use KNN, or K-Nearest-Neighbors. We use a brute method, meaning that the distances between all points are calculated. Nearest neighbors by our definition uses cosine similarity to find 10 nearest neighbors to a point in the vectors space. We fit it to the sparse matrix."
   ]
  },
  {
   "cell_type": "code",
   "execution_count": 144,
   "id": "3fffd1c6-288b-42fe-8c18-720680796766",
   "metadata": {
    "ExecuteTime": {
     "end_time": "2024-11-16T22:45:11.106519700Z",
     "start_time": "2024-11-16T22:45:11.105519200Z"
    }
   },
   "outputs": [
    {
     "data": {
      "text/html": [
       "<style>#sk-container-id-2 {color: black;}#sk-container-id-2 pre{padding: 0;}#sk-container-id-2 div.sk-toggleable {background-color: white;}#sk-container-id-2 label.sk-toggleable__label {cursor: pointer;display: block;width: 100%;margin-bottom: 0;padding: 0.3em;box-sizing: border-box;text-align: center;}#sk-container-id-2 label.sk-toggleable__label-arrow:before {content: \"▸\";float: left;margin-right: 0.25em;color: #696969;}#sk-container-id-2 label.sk-toggleable__label-arrow:hover:before {color: black;}#sk-container-id-2 div.sk-estimator:hover label.sk-toggleable__label-arrow:before {color: black;}#sk-container-id-2 div.sk-toggleable__content {max-height: 0;max-width: 0;overflow: hidden;text-align: left;background-color: #f0f8ff;}#sk-container-id-2 div.sk-toggleable__content pre {margin: 0.2em;color: black;border-radius: 0.25em;background-color: #f0f8ff;}#sk-container-id-2 input.sk-toggleable__control:checked~div.sk-toggleable__content {max-height: 200px;max-width: 100%;overflow: auto;}#sk-container-id-2 input.sk-toggleable__control:checked~label.sk-toggleable__label-arrow:before {content: \"▾\";}#sk-container-id-2 div.sk-estimator input.sk-toggleable__control:checked~label.sk-toggleable__label {background-color: #d4ebff;}#sk-container-id-2 div.sk-label input.sk-toggleable__control:checked~label.sk-toggleable__label {background-color: #d4ebff;}#sk-container-id-2 input.sk-hidden--visually {border: 0;clip: rect(1px 1px 1px 1px);clip: rect(1px, 1px, 1px, 1px);height: 1px;margin: -1px;overflow: hidden;padding: 0;position: absolute;width: 1px;}#sk-container-id-2 div.sk-estimator {font-family: monospace;background-color: #f0f8ff;border: 1px dotted black;border-radius: 0.25em;box-sizing: border-box;margin-bottom: 0.5em;}#sk-container-id-2 div.sk-estimator:hover {background-color: #d4ebff;}#sk-container-id-2 div.sk-parallel-item::after {content: \"\";width: 100%;border-bottom: 1px solid gray;flex-grow: 1;}#sk-container-id-2 div.sk-label:hover label.sk-toggleable__label {background-color: #d4ebff;}#sk-container-id-2 div.sk-serial::before {content: \"\";position: absolute;border-left: 1px solid gray;box-sizing: border-box;top: 0;bottom: 0;left: 50%;z-index: 0;}#sk-container-id-2 div.sk-serial {display: flex;flex-direction: column;align-items: center;background-color: white;padding-right: 0.2em;padding-left: 0.2em;position: relative;}#sk-container-id-2 div.sk-item {position: relative;z-index: 1;}#sk-container-id-2 div.sk-parallel {display: flex;align-items: stretch;justify-content: center;background-color: white;position: relative;}#sk-container-id-2 div.sk-item::before, #sk-container-id-2 div.sk-parallel-item::before {content: \"\";position: absolute;border-left: 1px solid gray;box-sizing: border-box;top: 0;bottom: 0;left: 50%;z-index: -1;}#sk-container-id-2 div.sk-parallel-item {display: flex;flex-direction: column;z-index: 1;position: relative;background-color: white;}#sk-container-id-2 div.sk-parallel-item:first-child::after {align-self: flex-end;width: 50%;}#sk-container-id-2 div.sk-parallel-item:last-child::after {align-self: flex-start;width: 50%;}#sk-container-id-2 div.sk-parallel-item:only-child::after {width: 0;}#sk-container-id-2 div.sk-dashed-wrapped {border: 1px dashed gray;margin: 0 0.4em 0.5em 0.4em;box-sizing: border-box;padding-bottom: 0.4em;background-color: white;}#sk-container-id-2 div.sk-label label {font-family: monospace;font-weight: bold;display: inline-block;line-height: 1.2em;}#sk-container-id-2 div.sk-label-container {text-align: center;}#sk-container-id-2 div.sk-container {/* jupyter's `normalize.less` sets `[hidden] { display: none; }` but bootstrap.min.css set `[hidden] { display: none !important; }` so we also need the `!important` here to be able to override the default hidden behavior on the sphinx rendered scikit-learn.org. See: https://github.com/scikit-learn/scikit-learn/issues/21755 */display: inline-block !important;position: relative;}#sk-container-id-2 div.sk-text-repr-fallback {display: none;}</style><div id=\"sk-container-id-2\" class=\"sk-top-container\"><div class=\"sk-text-repr-fallback\"><pre>NearestNeighbors(algorithm=&#x27;brute&#x27;, metric=&#x27;cosine&#x27;, n_neighbors=10)</pre><b>In a Jupyter environment, please rerun this cell to show the HTML representation or trust the notebook. <br />On GitHub, the HTML representation is unable to render, please try loading this page with nbviewer.org.</b></div><div class=\"sk-container\" hidden><div class=\"sk-item\"><div class=\"sk-estimator sk-toggleable\"><input class=\"sk-toggleable__control sk-hidden--visually\" id=\"sk-estimator-id-2\" type=\"checkbox\" checked><label for=\"sk-estimator-id-2\" class=\"sk-toggleable__label sk-toggleable__label-arrow\">NearestNeighbors</label><div class=\"sk-toggleable__content\"><pre>NearestNeighbors(algorithm=&#x27;brute&#x27;, metric=&#x27;cosine&#x27;, n_neighbors=10)</pre></div></div></div></div></div>"
      ],
      "text/plain": [
       "NearestNeighbors(algorithm='brute', metric='cosine', n_neighbors=10)"
      ]
     },
     "execution_count": 144,
     "metadata": {},
     "output_type": "execute_result"
    }
   ],
   "source": [
    "knn = NearestNeighbors(metric='cosine', algorithm='brute', n_neighbors=10)\n",
    "knn.fit(matx_sparse)"
   ]
  },
  {
   "cell_type": "markdown",
   "id": "e1205614-0868-4b8d-b5b8-c49ed3edf94c",
   "metadata": {},
   "source": [
    "Now we create two functions. One that prints the recommendations for a user based on some given values. The other predicts ratings using KNN for a user, with a given number of recommendations to find."
   ]
  },
  {
   "cell_type": "code",
   "execution_count": 149,
   "id": "a0e7dbf5-3096-41e7-81bc-b9febefd3f5c",
   "metadata": {},
   "outputs": [
    {
     "name": "stdout",
     "output_type": "stream",
     "text": [
      "Top 5 Recommendations for 000883382802f2d95a3dd545bb953882\n",
      "ID: 11870085, Pred Score: 3.888888888888889\n",
      "ID: 8591107, Pred Score: 3.111111111111111\n",
      "ID: 6339664, Pred Score: 2.888888888888889\n",
      "ID: 7791997, Pred Score: 2.7777777777777777\n",
      "ID: 3777732, Pred Score: 2.6666666666666665\n"
     ]
    }
   ],
   "source": [
    "def print_recs(vals, user_id):\n",
    "    # Print the recommendations for a user (values given)\n",
    "    print(f'Top {len(vals)} Recommendations for {user_id}')\n",
    "    for _, data in enumerate(vals):\n",
    "        print(f'ID: {data[0]}, Pred Score: {data[1]}')\n",
    "\n",
    "def predict_rating(user_id, n_recs=5):\n",
    "    # Find the distances and indices of the nearest neighbors by locating the user ratings in the matrix\n",
    "    distances, indices = knn.kneighbors(matx.loc[user_id, :].values.reshape(1, -1), n_neighbors=10)\n",
    "\n",
    "    similar_users = indices.flatten() # get the similar users from KNN using the indices\n",
    "    scores = {}\n",
    "    num_rated = {}\n",
    "\n",
    "    # Iterate the similar users\n",
    "    for i in similar_users:\n",
    "        n = matx.iloc[i].name\n",
    "        if n == user_id: # Don't use user's own ratings as ratings/recommendations\n",
    "            continue\n",
    "        # Iterate the closest values for the similar users, and add the predicted scores\n",
    "        for j in matx.columns:\n",
    "            if matx.loc[user_id, j] == 0:\n",
    "                scores[j] = scores.get(j, 0) + matx.loc[n, j]\n",
    "                num_rated[j] = num_rated.get(j, 0) + 1\n",
    "\n",
    "    # Weight the scores based on the amount of times input was given to the score\n",
    "    for _ in num_rated.keys():\n",
    "        scores[_] /= num_rated[_]\n",
    "\n",
    "    # Return recommendations\n",
    "    if n_recs is not None:\n",
    "        recs = sorted(scores.items(), key=lambda x: x[1], reverse=True)[:n_recs]\n",
    "    else:\n",
    "        recs = sorted(scores.items(), key=lambda x: x[1], reverse=True)[:]\n",
    "    return recs\n",
    "\n",
    "pred = predict_rating('000883382802f2d95a3dd545bb953882')\n",
    "print_recs(pred, '000883382802f2d95a3dd545bb953882')"
   ]
  },
  {
   "cell_type": "markdown",
   "id": "4d2ca11d-8300-4f48-bd0c-03833da6453d",
   "metadata": {},
   "source": [
    "We can see how this works for a few more users:"
   ]
  },
  {
   "cell_type": "code",
   "execution_count": 151,
   "id": "9ac40046-fd55-4069-9592-acdc6faa5efa",
   "metadata": {},
   "outputs": [
    {
     "name": "stdout",
     "output_type": "stream",
     "text": [
      "Top 5 Recommendations for 01ec1a320ffded6b2dd47833f2c8e4fb\n",
      "ID: 17831614, Pred Score: 3.7777777777777777\n",
      "ID: 25573737, Pred Score: 3.6666666666666665\n",
      "ID: 33133783, Pred Score: 3.6666666666666665\n",
      "ID: 16070903, Pred Score: 3.5555555555555554\n",
      "ID: 27844420, Pred Score: 3.5555555555555554\n",
      "Top 5 Recommendations for 83d6e6f80d7c32c6676b3ab3b01543cd\n",
      "ID: 16081272, Pred Score: 2.2222222222222223\n",
      "ID: 17333880, Pred Score: 1.8888888888888888\n",
      "ID: 13184992, Pred Score: 1.6666666666666667\n",
      "ID: 15784909, Pred Score: 1.6666666666666667\n",
      "ID: 16113791, Pred Score: 1.6666666666666667\n"
     ]
    }
   ],
   "source": [
    "pred = predict_rating('01ec1a320ffded6b2dd47833f2c8e4fb')\n",
    "print_recs(pred, '01ec1a320ffded6b2dd47833f2c8e4fb')\n",
    "pred = predict_rating('83d6e6f80d7c32c6676b3ab3b01543cd')\n",
    "print_recs(pred, '83d6e6f80d7c32c6676b3ab3b01543cd')"
   ]
  },
  {
   "cell_type": "markdown",
   "id": "5f518aba-b4f0-412a-81fe-931874314f94",
   "metadata": {},
   "source": [
    "Now, we use SVD as a part of collaborative filtering. Like above, we define a function that can predict ratings based on a user id and the number of recommendations to give."
   ]
  },
  {
   "cell_type": "code",
   "execution_count": 152,
   "id": "0fdd751d-0ad7-4cda-9ab0-242c3e56b263",
   "metadata": {},
   "outputs": [
    {
     "name": "stdout",
     "output_type": "stream",
     "text": [
      "Top 5 Recommendations for 000883382802f2d95a3dd545bb953882\n",
      "ID: 6339664, Pred Score: 2.3444766540596462\n",
      "ID: 3777732, Pred Score: 2.274470712610798\n",
      "ID: 15717943, Pred Score: 2.267085194156738\n",
      "ID: 13372690, Pred Score: 2.113577420449349\n",
      "ID: 8755785, Pred Score: 2.022502610454564\n",
      "Top 5 Recommendations for 01ec1a320ffded6b2dd47833f2c8e4fb\n",
      "ID: 13612739, Pred Score: 4.028775139992119\n",
      "ID: 12513614, Pred Score: 3.7663830863906833\n",
      "ID: 16150996, Pred Score: 3.6395760847067087\n",
      "ID: 23355069, Pred Score: 3.5215054893583524\n",
      "ID: 23252517, Pred Score: 3.508824199329163\n",
      "Top 5 Recommendations for 83d6e6f80d7c32c6676b3ab3b01543cd\n",
      "ID: 13372690, Pred Score: 0.7905352698706727\n",
      "ID: 17340050, Pred Score: 0.7688590240755541\n",
      "ID: 15784909, Pred Score: 0.7308538177197553\n",
      "ID: 13496084, Pred Score: 0.6793026177879176\n",
      "ID: 16073738, Pred Score: 0.6666380684901799\n"
     ]
    }
   ],
   "source": [
    "# Use scikit-learn Truncated SVD. We find 100 components\n",
    "svd = TruncatedSVD(n_components=100, random_state=42)\n",
    "\n",
    "# Fit the sparse matrix and get the component factors\n",
    "user_factors = svd.fit_transform(matx_sparse)\n",
    "item_factors = svd.components_\n",
    "\n",
    "def predict_rating_svd(user_id, n_recs=5):\n",
    "    # Predict ratings using SVD\n",
    "\n",
    "    # This inner rating function uses a dot product to get a rating value for a book from the component factors from above\n",
    "    def inner_rating(user_id, book_id):\n",
    "        user_index = matx.index.get_loc(user_id)\n",
    "        item_index = matx.columns.get_loc(book_id)\n",
    "    \n",
    "        predicted_rating = np.dot(user_factors[user_index], item_factors[:, item_index].T) # dot product\n",
    "        return predicted_rating\n",
    "\n",
    "    # Get predicted ratings for every zero-rating in the user's row (meaning that they have not already rated the book in question)\n",
    "    ratings = {}\n",
    "    for _ in matx.columns:\n",
    "        if matx.loc[user_id][_] > 0.0:  # don't rate books already rated by the user\n",
    "            continue\n",
    "        predicted_rating = inner_rating(user_id, _)\n",
    "        ratings[_] = predicted_rating\n",
    "\n",
    "    # Return the recommendations\n",
    "    if n_recs is not None:\n",
    "        recs = sorted(ratings.items(), key=lambda x: x[1], reverse=True)[:n_recs]\n",
    "    else:\n",
    "        recs = sorted(ratings.items(), key=lambda x: x[1], reverse=True)\n",
    "    return recs\n",
    "        \n",
    "user_ids = ['000883382802f2d95a3dd545bb953882', '01ec1a320ffded6b2dd47833f2c8e4fb', '83d6e6f80d7c32c6676b3ab3b01543cd']\n",
    "for _ in user_ids:\n",
    "    print_recs(predict_rating_svd(_), _)"
   ]
  },
  {
   "cell_type": "markdown",
   "id": "815b9711-22e3-4c0f-b4d9-f7460c177f8c",
   "metadata": {},
   "source": [
    "To make this \"hybrid\" collaborative filtering, we need to incorporate results from SVD *and* KNN together. So we define a function to do so. Since KNN tends to incorporate a lot of zero values in the vector space, the ratings tend to be based off of what *should* be good, but has no actualy backing. Thus we arbitrarily weight 1.5 for SVD ratings, which doesn't base off of zero values, and only give a weight of 0.5 on the KNN predicted ratings."
   ]
  },
  {
   "cell_type": "code",
   "execution_count": 158,
   "id": "78856ebe-c892-49ae-a36b-c9b25b7847a8",
   "metadata": {},
   "outputs": [
    {
     "name": "stdout",
     "output_type": "stream",
     "text": [
      "Top 5 Recommendations for 000883382802f2d95a3dd545bb953882\n",
      "ID: 6339664, Pred Score: 4.961159425533914\n",
      "ID: 3777732, Pred Score: 4.74503940224953\n",
      "ID: 15717943, Pred Score: 3.400627791235107\n",
      "ID: 13372690, Pred Score: 3.170366130674023\n",
      "ID: 8755785, Pred Score: 3.033753915681846\n"
     ]
    }
   ],
   "source": [
    "def hybrid_collaborative_filtering(user_id, n_recs=None):\n",
    "    # Hybrid collaborative filtering based on user id and given number of recommendations\n",
    "\n",
    "    # Get the predicted SVD and KNN results for the user\n",
    "    pred_svd = dict(predict_rating_svd(user_id, n_recs))\n",
    "    pred_knn = dict(predict_rating(user_id, n_recs))\n",
    "    \n",
    "    keys = list(pred_svd.keys())\n",
    "    keys.extend(list(pred_knn.keys()))\n",
    "    keys = tuple(keys)\n",
    "\n",
    "    # Weight the predictions\n",
    "    pred = {}\n",
    "    for _ in set(keys):\n",
    "        pred[_] = (1.5*pred_svd.get(_, 0)) + (0.5*pred_knn.get(_, 0)) # Weight the predictions\n",
    "\n",
    "    # Return the recommendations\n",
    "    recs = sorted(pred.items(), key=lambda x: x[1], reverse=True)\n",
    "    if n_recs is not None:\n",
    "        recs = recs[:n_recs]\n",
    "    print_recs(recs, user_id)\n",
    "hybrid_collaborative_filtering('000883382802f2d95a3dd545bb953882', 5)"
   ]
  },
  {
   "cell_type": "markdown",
   "id": "33c8fac2-5bdc-4bec-9ecc-d71bcddc75ec",
   "metadata": {},
   "source": [
    "This ends the coding section of the project. While there could be more work done like content filtering or building a UI for this project, that will have to be set aside for a later date (and will be done in the future for sure). "
   ]
  }
 ],
 "metadata": {
  "kernelspec": {
   "display_name": "Python 3 (ipykernel)",
   "language": "python",
   "name": "python3"
  },
  "language_info": {
   "codemirror_mode": {
    "name": "ipython",
    "version": 3
   },
   "file_extension": ".py",
   "mimetype": "text/x-python",
   "name": "python",
   "nbconvert_exporter": "python",
   "pygments_lexer": "ipython3",
   "version": "3.9.12"
  }
 },
 "nbformat": 4,
 "nbformat_minor": 5
}
